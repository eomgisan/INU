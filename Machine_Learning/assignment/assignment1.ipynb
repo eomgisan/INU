{
 "cells": [
  {
   "cell_type": "markdown",
   "id": "aa887c35",
   "metadata": {},
   "source": [
    "#201600282 엄기산"
   ]
  },
  {
   "cell_type": "code",
   "execution_count": 1,
   "id": "ed612694",
   "metadata": {},
   "outputs": [],
   "source": [
    "from IPython.core.interactiveshell import InteractiveShell\n",
    "InteractiveShell. ast_node_interactivity = \"all\""
   ]
  },
  {
   "cell_type": "code",
   "execution_count": 2,
   "id": "c1011fa3",
   "metadata": {},
   "outputs": [],
   "source": [
    "import numpy as np\n",
    "import math"
   ]
  },
  {
   "cell_type": "code",
   "execution_count": 3,
   "id": "39775a25",
   "metadata": {},
   "outputs": [],
   "source": [
    "x0 = 1\n",
    "\n",
    "U1 = np.array([[-0.3,1,1.2],[1.6,-1,-1.1]])\n",
    "U2 = np.array([[1,1,-1],[0.7,0.5,1]])\n",
    "U3 = np.array([[0.5,-0.8,1],[-0.1,0.3,0.4]])\n",
    "U4 = np.array([[1,0.1,-0.2],[-0.2,1.3,-0.4]])"
   ]
  },
  {
   "cell_type": "code",
   "execution_count": 4,
   "id": "bcc3abf6",
   "metadata": {},
   "outputs": [],
   "source": [
    "input = np.array([[x0],[1],[0]])"
   ]
  },
  {
   "cell_type": "code",
   "execution_count": 5,
   "id": "9f57bee1",
   "metadata": {},
   "outputs": [],
   "source": [
    "target = np.array([[0],[1]])"
   ]
  },
  {
   "cell_type": "code",
   "execution_count": 6,
   "id": "be180e39",
   "metadata": {},
   "outputs": [
    {
     "data": {
      "text/plain": [
       "array([[-0.3,  1. ,  1.2],\n",
       "       [ 1.6, -1. , -1.1]])"
      ]
     },
     "execution_count": 6,
     "metadata": {},
     "output_type": "execute_result"
    },
    {
     "data": {
      "text/plain": [
       "array([[ 1. ,  1. , -1. ],\n",
       "       [ 0.7,  0.5,  1. ]])"
      ]
     },
     "execution_count": 6,
     "metadata": {},
     "output_type": "execute_result"
    },
    {
     "data": {
      "text/plain": [
       "array([[ 0.5, -0.8,  1. ],\n",
       "       [-0.1,  0.3,  0.4]])"
      ]
     },
     "execution_count": 6,
     "metadata": {},
     "output_type": "execute_result"
    },
    {
     "data": {
      "text/plain": [
       "array([[ 1. ,  0.1, -0.2],\n",
       "       [-0.2,  1.3, -0.4]])"
      ]
     },
     "execution_count": 6,
     "metadata": {},
     "output_type": "execute_result"
    }
   ],
   "source": [
    "U1\n",
    "U2\n",
    "U3\n",
    "U4"
   ]
  },
  {
   "cell_type": "code",
   "execution_count": 7,
   "id": "c340ee2f",
   "metadata": {},
   "outputs": [],
   "source": [
    "def activation(x):\n",
    "    return 1 / (1 + np.exp(-x))"
   ]
  },
  {
   "cell_type": "markdown",
   "id": "ec6f3ad1",
   "metadata": {},
   "source": [
    "#가중치 변경 전 ReLU 사용시 오차 확인"
   ]
  },
  {
   "cell_type": "code",
   "execution_count": 8,
   "id": "040e3484",
   "metadata": {},
   "outputs": [
    {
     "data": {
      "text/plain": [
       "array([0.72021291, 0.60807077])"
      ]
     },
     "execution_count": 8,
     "metadata": {},
     "output_type": "execute_result"
    }
   ],
   "source": [
    "z1 = np.dot(U1,input)\n",
    "o1 = activation(z1)\n",
    "\n",
    "z2 = np.dot(U2,np.insert(o1,0,x0))\n",
    "o2 = activation(z2)\n",
    "\n",
    "z3 = np.dot(U3,np.insert(o2,0,x0))\n",
    "o3 = activation(z3)\n",
    "\n",
    "z4 = np.dot(U4,np.insert(o3,0,x0))\n",
    "o4 = activation(z4)\n",
    "\n",
    "o4"
   ]
  },
  {
   "cell_type": "code",
   "execution_count": 9,
   "id": "7119985e",
   "metadata": {},
   "outputs": [
    {
     "data": {
      "text/plain": [
       "array([0.33615758])"
      ]
     },
     "execution_count": 9,
     "metadata": {},
     "output_type": "execute_result"
    }
   ],
   "source": [
    "e1 = target - o4.reshape(2,1)\n",
    "e1 = np.square(e1)\n",
    "e1 = e1.sum(0) /2\n",
    "e1"
   ]
  },
  {
   "cell_type": "markdown",
   "id": "a0a80c8b",
   "metadata": {},
   "source": [
    "# 가중치 변경 후 ReLU 사용시 오차 확인"
   ]
  },
  {
   "cell_type": "code",
   "execution_count": 10,
   "id": "08bd04c6",
   "metadata": {},
   "outputs": [],
   "source": [
    "U3[0][2] = 0.9"
   ]
  },
  {
   "cell_type": "code",
   "execution_count": 11,
   "id": "f44de660",
   "metadata": {},
   "outputs": [
    {
     "data": {
      "text/plain": [
       "array([0.7198378 , 0.60229099])"
      ]
     },
     "execution_count": 11,
     "metadata": {},
     "output_type": "execute_result"
    }
   ],
   "source": [
    "z1 = np.dot(U1,input)\n",
    "o1 = activation(z1)\n",
    "\n",
    "z2 = np.dot(U2,np.insert(o1,0,x0))\n",
    "o2 = activation(z2)\n",
    "\n",
    "z3 = np.dot(U3,np.insert(o2,0,x0))\n",
    "o3 = activation(z3)\n",
    "\n",
    "z4 = np.dot(U4,np.insert(o3,0,x0))\n",
    "o4 = activation(z4)\n",
    "\n",
    "o4"
   ]
  },
  {
   "cell_type": "code",
   "execution_count": 12,
   "id": "53477377",
   "metadata": {},
   "outputs": [
    {
     "data": {
      "text/plain": [
       "array([0.33816946])"
      ]
     },
     "execution_count": 12,
     "metadata": {},
     "output_type": "execute_result"
    }
   ],
   "source": [
    "e2 = target - o4.reshape(2,1)\n",
    "e2 = np.square(e2)\n",
    "e2 = e2.sum(0) /2\n",
    "e2"
   ]
  },
  {
   "cell_type": "code",
   "execution_count": 13,
   "id": "997a2f9d",
   "metadata": {},
   "outputs": [
    {
     "data": {
      "text/plain": [
       "array([False])"
      ]
     },
     "execution_count": 13,
     "metadata": {},
     "output_type": "execute_result"
    }
   ],
   "source": [
    "e1 > e2"
   ]
  },
  {
   "cell_type": "code",
   "execution_count": null,
   "id": "46ff4b93",
   "metadata": {},
   "outputs": [],
   "source": []
  }
 ],
 "metadata": {
  "kernelspec": {
   "display_name": "Python 3",
   "language": "python",
   "name": "python3"
  },
  "language_info": {
   "codemirror_mode": {
    "name": "ipython",
    "version": 3
   },
   "file_extension": ".py",
   "mimetype": "text/x-python",
   "name": "python",
   "nbconvert_exporter": "python",
   "pygments_lexer": "ipython3",
   "version": "3.8.8"
  }
 },
 "nbformat": 4,
 "nbformat_minor": 5
}
