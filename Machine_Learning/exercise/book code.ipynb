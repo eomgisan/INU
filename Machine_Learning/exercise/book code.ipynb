{
 "cells": [
  {
   "cell_type": "markdown",
   "id": "ed6aecb6",
   "metadata": {},
   "source": [
    "## 2장"
   ]
  },
  {
   "cell_type": "code",
   "execution_count": 21,
   "id": "028955b8",
   "metadata": {},
   "outputs": [
    {
     "data": {
      "text/plain": [
       "[1, 2, 3, 4]"
      ]
     },
     "execution_count": 21,
     "metadata": {},
     "output_type": "execute_result"
    }
   ],
   "source": [
    "a = [1,2,3]\n",
    "b=a\n",
    "a.append(4)\n",
    "b"
   ]
  },
  {
   "cell_type": "code",
   "execution_count": 32,
   "id": "29a39eb1",
   "metadata": {
    "scrolled": true
   },
   "outputs": [
    {
     "ename": "TypeError",
     "evalue": "can only concatenate str (not \"int\") to str",
     "output_type": "error",
     "traceback": [
      "\u001b[1;31m---------------------------------------------------------------------------\u001b[0m",
      "\u001b[1;31mTypeError\u001b[0m                                 Traceback (most recent call last)",
      "\u001b[1;32m<ipython-input-32-4dd8efb5fac1>\u001b[0m in \u001b[0;36m<module>\u001b[1;34m\u001b[0m\n\u001b[1;32m----> 1\u001b[1;33m \u001b[1;34m'5'\u001b[0m \u001b[1;33m+\u001b[0m \u001b[1;36m5\u001b[0m\u001b[1;33m\u001b[0m\u001b[1;33m\u001b[0m\u001b[0m\n\u001b[0m",
      "\u001b[1;31mTypeError\u001b[0m: can only concatenate str (not \"int\") to str"
     ]
    }
   ],
   "source": [
    "'5' + 5\n",
    "# 위와같이 파이썬은 확실한 경우 아니면 변수를 묵시적으로 변환하지 못함"
   ]
  },
  {
   "cell_type": "code",
   "execution_count": 36,
   "id": "902b01d0",
   "metadata": {},
   "outputs": [
    {
     "data": {
      "text/plain": [
       "[1, 2, 3, 1]"
      ]
     },
     "execution_count": 36,
     "metadata": {},
     "output_type": "execute_result"
    }
   ],
   "source": [
    "#뮤터블       변경 가능\n",
    "#list\n",
    "a = [1,2,3,4]\n",
    "a[3] = 1\n",
    "a"
   ]
  },
  {
   "cell_type": "code",
   "execution_count": 37,
   "id": "aefd7c00",
   "metadata": {},
   "outputs": [
    {
     "ename": "TypeError",
     "evalue": "'str' object does not support item assignment",
     "output_type": "error",
     "traceback": [
      "\u001b[1;31m---------------------------------------------------------------------------\u001b[0m",
      "\u001b[1;31mTypeError\u001b[0m                                 Traceback (most recent call last)",
      "\u001b[1;32m<ipython-input-37-25fbdce7c91c>\u001b[0m in \u001b[0;36m<module>\u001b[1;34m\u001b[0m\n\u001b[0;32m      2\u001b[0m \u001b[1;31m#string, tuple\u001b[0m\u001b[1;33m\u001b[0m\u001b[1;33m\u001b[0m\u001b[1;33m\u001b[0m\u001b[0m\n\u001b[0;32m      3\u001b[0m \u001b[0ma\u001b[0m \u001b[1;33m=\u001b[0m \u001b[1;34m'str'\u001b[0m\u001b[1;33m\u001b[0m\u001b[1;33m\u001b[0m\u001b[0m\n\u001b[1;32m----> 4\u001b[1;33m \u001b[0ma\u001b[0m\u001b[1;33m[\u001b[0m\u001b[1;36m2\u001b[0m\u001b[1;33m]\u001b[0m \u001b[1;33m=\u001b[0m \u001b[1;34m'a'\u001b[0m\u001b[1;33m\u001b[0m\u001b[1;33m\u001b[0m\u001b[0m\n\u001b[0m",
      "\u001b[1;31mTypeError\u001b[0m: 'str' object does not support item assignment"
     ]
    }
   ],
   "source": [
    "#이뮤터블    변경 불가능\n",
    "#string, tuple\n",
    "a = 'str'\n",
    "a[2] = 'a'"
   ]
  },
  {
   "cell_type": "code",
   "execution_count": 39,
   "id": "95a34bff",
   "metadata": {},
   "outputs": [
    {
     "ename": "TypeError",
     "evalue": "'tuple' object does not support item assignment",
     "output_type": "error",
     "traceback": [
      "\u001b[1;31m---------------------------------------------------------------------------\u001b[0m",
      "\u001b[1;31mTypeError\u001b[0m                                 Traceback (most recent call last)",
      "\u001b[1;32m<ipython-input-39-5c037a8cb03a>\u001b[0m in \u001b[0;36m<module>\u001b[1;34m\u001b[0m\n\u001b[0;32m      1\u001b[0m \u001b[0ma\u001b[0m\u001b[1;33m=\u001b[0m\u001b[1;33m(\u001b[0m\u001b[1;36m1\u001b[0m\u001b[1;33m,\u001b[0m\u001b[1;36m2\u001b[0m\u001b[1;33m,\u001b[0m\u001b[1;36m3\u001b[0m\u001b[1;33m)\u001b[0m\u001b[1;33m\u001b[0m\u001b[1;33m\u001b[0m\u001b[0m\n\u001b[1;32m----> 2\u001b[1;33m \u001b[0ma\u001b[0m\u001b[1;33m[\u001b[0m\u001b[1;36m1\u001b[0m\u001b[1;33m]\u001b[0m \u001b[1;33m=\u001b[0m \u001b[1;36m1\u001b[0m\u001b[1;33m\u001b[0m\u001b[1;33m\u001b[0m\u001b[0m\n\u001b[0m",
      "\u001b[1;31mTypeError\u001b[0m: 'tuple' object does not support item assignment"
     ]
    }
   ],
   "source": [
    "a=(1,2,3)\n",
    "a[1] = 1"
   ]
  },
  {
   "cell_type": "code",
   "execution_count": 13,
   "id": "dee35d2a",
   "metadata": {},
   "outputs": [
    {
     "name": "stdout",
     "output_type": "stream",
     "text": [
      "12\\34\n"
     ]
    }
   ],
   "source": [
    "s = '12\\\\34'\n",
    "print(s)"
   ]
  },
  {
   "cell_type": "code",
   "execution_count": 11,
   "id": "5274519d",
   "metadata": {},
   "outputs": [
    {
     "name": "stdout",
     "output_type": "stream",
     "text": [
      "this\\hsa\n",
      "o\\spcial\\characters\n"
     ]
    }
   ],
   "source": [
    "s = 'this\\hsa\\no\\spcial\\characters'\n",
    "print(s)"
   ]
  },
  {
   "cell_type": "code",
   "execution_count": 10,
   "id": "91d5d061",
   "metadata": {},
   "outputs": [
    {
     "name": "stdout",
     "output_type": "stream",
     "text": [
      "this\\hsa\\no\\spcial\\characters\n"
     ]
    }
   ],
   "source": [
    "s = r'this\\hsa\\no\\spcial\\characters'\n",
    "print(s)"
   ]
  },
  {
   "cell_type": "code",
   "execution_count": 19,
   "id": "422828d7",
   "metadata": {},
   "outputs": [
    {
     "name": "stdout",
     "output_type": "stream",
     "text": [
      "x\n",
      "zz\n",
      "zzzz\n"
     ]
    }
   ],
   "source": [
    "x = 1\n",
    "if x<0:\n",
    "    print('z')\n",
    "elif x<2:\n",
    "    print('x')\n",
    "    pass\n",
    "    print('zz')\n",
    "else:\n",
    "    print('zzz')\n",
    "\n",
    "print('zzzz')"
   ]
  },
  {
   "cell_type": "code",
   "execution_count": 43,
   "id": "d016b6cf",
   "metadata": {},
   "outputs": [
    {
     "name": "stdout",
     "output_type": "stream",
     "text": [
      "메롱\n",
      "0\n",
      "메롱\n",
      "1\n"
     ]
    }
   ],
   "source": [
    "for i in range(3):\n",
    "    for j in range(2):\n",
    "        if j==1:\n",
    "            break\n",
    "        print('메롱')\n",
    "    print(i)\n",
    "    if i ==1:\n",
    "        break\n",
    "# break 는 가장 안쪽의 순환문만 빠져나간다."
   ]
  },
  {
   "cell_type": "markdown",
   "id": "f78d36d2",
   "metadata": {},
   "source": [
    "## 3장"
   ]
  },
  {
   "cell_type": "code",
   "execution_count": null,
   "id": "d24ce4d3",
   "metadata": {},
   "outputs": [],
   "source": [
    "#튜플 = 1차원, 변경불가능"
   ]
  },
  {
   "cell_type": "code",
   "execution_count": 47,
   "id": "12e0afa7",
   "metadata": {},
   "outputs": [
    {
     "data": {
      "text/plain": [
       "1696885421296"
      ]
     },
     "execution_count": 47,
     "metadata": {},
     "output_type": "execute_result"
    }
   ],
   "source": [
    "tup = tuple(range(4))\n",
    "id(tup)"
   ]
  },
  {
   "cell_type": "code",
   "execution_count": 49,
   "id": "c36c9129",
   "metadata": {},
   "outputs": [
    {
     "data": {
      "text/plain": [
       "1696884058928"
      ]
     },
     "execution_count": 49,
     "metadata": {},
     "output_type": "execute_result"
    }
   ],
   "source": [
    "tup += 4,5\n",
    "id(tup)"
   ]
  },
  {
   "cell_type": "code",
   "execution_count": 55,
   "id": "1bb31723",
   "metadata": {},
   "outputs": [
    {
     "data": {
      "text/plain": [
       "1696884397296"
      ]
     },
     "execution_count": 55,
     "metadata": {},
     "output_type": "execute_result"
    }
   ],
   "source": [
    "tup2 = tuple([list(range(4))])\n",
    "id(tup2)"
   ]
  },
  {
   "cell_type": "code",
   "execution_count": 57,
   "id": "762e6c60",
   "metadata": {},
   "outputs": [
    {
     "data": {
      "text/plain": [
       "1696884397296"
      ]
     },
     "execution_count": 57,
     "metadata": {},
     "output_type": "execute_result"
    }
   ],
   "source": [
    "tup2[0].append(4)\n",
    "tup2[0].append(5)\n",
    "id(tup2)"
   ]
  },
  {
   "cell_type": "code",
   "execution_count": 65,
   "id": "b13e20ad",
   "metadata": {},
   "outputs": [
    {
     "data": {
      "text/plain": [
       "[6, 7]"
      ]
     },
     "execution_count": 65,
     "metadata": {},
     "output_type": "execute_result"
    }
   ],
   "source": [
    "tup = (4,5,6,7,8)\n",
    "a,b,*_,c = tup\n",
    "_"
   ]
  },
  {
   "cell_type": "code",
   "execution_count": 85,
   "id": "1e4a8873",
   "metadata": {},
   "outputs": [
    {
     "data": {
      "text/plain": [
       "2"
      ]
     },
     "execution_count": 85,
     "metadata": {},
     "output_type": "execute_result"
    }
   ],
   "source": [
    "a=1,2,3,3,2,3\n",
    "a.count(2)"
   ]
  },
  {
   "cell_type": "code",
   "execution_count": 86,
   "id": "e7158f75",
   "metadata": {},
   "outputs": [
    {
     "data": {
      "text/plain": [
       "[1, 2, 3, 'foo', 'bar']"
      ]
     },
     "execution_count": 86,
     "metadata": {},
     "output_type": "execute_result"
    }
   ],
   "source": [
    "a=[1,2,3,'foo']\n",
    "a.append('bar')\n",
    "a"
   ]
  },
  {
   "cell_type": "code",
   "execution_count": 87,
   "id": "650b469e",
   "metadata": {},
   "outputs": [
    {
     "data": {
      "text/plain": [
       "['baz', 1, 2, 3, 'foo', 'bar']"
      ]
     },
     "execution_count": 87,
     "metadata": {},
     "output_type": "execute_result"
    }
   ],
   "source": [
    "a.insert(0,'baz')\n",
    "a"
   ]
  },
  {
   "cell_type": "code",
   "execution_count": 88,
   "id": "1a936e6f",
   "metadata": {},
   "outputs": [
    {
     "data": {
      "text/plain": [
       "'baz'"
      ]
     },
     "execution_count": 88,
     "metadata": {},
     "output_type": "execute_result"
    }
   ],
   "source": [
    "a.pop(0)"
   ]
  },
  {
   "cell_type": "code",
   "execution_count": 89,
   "id": "890b9406",
   "metadata": {},
   "outputs": [
    {
     "data": {
      "text/plain": [
       "[1, 2, 3, 'foo', 'bar']"
      ]
     },
     "execution_count": 89,
     "metadata": {},
     "output_type": "execute_result"
    }
   ],
   "source": [
    "a"
   ]
  },
  {
   "cell_type": "code",
   "execution_count": 90,
   "id": "b76b58ab",
   "metadata": {},
   "outputs": [
    {
     "data": {
      "text/plain": [
       "[1, 2, 3, 'bar']"
      ]
     },
     "execution_count": 90,
     "metadata": {},
     "output_type": "execute_result"
    }
   ],
   "source": [
    "a.remove('foo')\n",
    "a"
   ]
  },
  {
   "cell_type": "markdown",
   "id": "715480f8",
   "metadata": {},
   "source": [
    "## 4장"
   ]
  },
  {
   "cell_type": "code",
   "execution_count": 95,
   "id": "6fed31fa",
   "metadata": {},
   "outputs": [
    {
     "data": {
      "text/plain": [
       "array(1)"
      ]
     },
     "execution_count": 95,
     "metadata": {},
     "output_type": "execute_result"
    }
   ],
   "source": [
    "import numpy as np\n",
    "a = np.ones_like(2 )\n",
    "a\n"
   ]
  },
  {
   "cell_type": "code",
   "execution_count": 156,
   "id": "f3ce0706",
   "metadata": {},
   "outputs": [
    {
     "data": {
      "text/plain": [
       "array([[[3, 5],\n",
       "        [7, 7]],\n",
       "\n",
       "       [[8, 2],\n",
       "        [5, 9]]])"
      ]
     },
     "execution_count": 156,
     "metadata": {},
     "output_type": "execute_result"
    }
   ],
   "source": [
    "b= np.random.randint(0,10,8).reshape(2,2,2)\n",
    "b\n"
   ]
  },
  {
   "cell_type": "code",
   "execution_count": 157,
   "id": "dd6de715",
   "metadata": {},
   "outputs": [
    {
     "data": {
      "text/plain": [
       "array([[[3, 2],\n",
       "        [5, 7]],\n",
       "\n",
       "       [[8, 5],\n",
       "        [7, 9]]])"
      ]
     },
     "execution_count": 157,
     "metadata": {},
     "output_type": "execute_result"
    }
   ],
   "source": [
    "b.sort(0)\n",
    "b"
   ]
  },
  {
   "cell_type": "markdown",
   "id": "2048c283",
   "metadata": {},
   "source": [
    "## Appendix"
   ]
  },
  {
   "cell_type": "code",
   "execution_count": null,
   "id": "65789222",
   "metadata": {},
   "outputs": [],
   "source": []
  },
  {
   "cell_type": "markdown",
   "id": "0f63c1cb",
   "metadata": {},
   "source": [
    "## 5장"
   ]
  },
  {
   "cell_type": "code",
   "execution_count": null,
   "id": "0e51af6a",
   "metadata": {},
   "outputs": [],
   "source": []
  },
  {
   "cell_type": "markdown",
   "id": "38983ca7",
   "metadata": {},
   "source": [
    "## 6장"
   ]
  },
  {
   "cell_type": "code",
   "execution_count": null,
   "id": "08d50788",
   "metadata": {},
   "outputs": [],
   "source": []
  },
  {
   "cell_type": "markdown",
   "id": "f7b9c4ea",
   "metadata": {},
   "source": [
    "## 9장"
   ]
  },
  {
   "cell_type": "code",
   "execution_count": null,
   "id": "3ef5b758",
   "metadata": {},
   "outputs": [],
   "source": []
  }
 ],
 "metadata": {
  "kernelspec": {
   "display_name": "Python 3",
   "language": "python",
   "name": "python3"
  },
  "language_info": {
   "codemirror_mode": {
    "name": "ipython",
    "version": 3
   },
   "file_extension": ".py",
   "mimetype": "text/x-python",
   "name": "python",
   "nbconvert_exporter": "python",
   "pygments_lexer": "ipython3",
   "version": "3.8.8"
  }
 },
 "nbformat": 4,
 "nbformat_minor": 5
}
