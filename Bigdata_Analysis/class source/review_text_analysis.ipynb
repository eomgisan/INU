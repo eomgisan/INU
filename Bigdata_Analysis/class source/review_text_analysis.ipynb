{
 "cells": [
  {
   "cell_type": "markdown",
   "id": "e673d961",
   "metadata": {},
   "source": [
    "###### 지능정보시스템 기말고사 대체 과제\n",
    "* 인생영화 (컨택트) 리뷰 데이터 가져오기\n",
    "* 위드 클라우드 그리기, 분류기 학습시키기\n",
    "\n",
    "# 201600282 엄기산"
   ]
  },
  {
   "cell_type": "markdown",
   "id": "f2006ef2",
   "metadata": {},
   "source": [
    "## 데이터 크롤링 수행"
   ]
  },
  {
   "cell_type": "code",
   "execution_count": 16,
   "id": "bbf2f6d6",
   "metadata": {},
   "outputs": [],
   "source": [
    "import pandas as pd\n",
    "from urllib.request import urlopen\n",
    "from bs4 import BeautifulSoup\n",
    "from tqdm.notebook import tqdm\n",
    "\n",
    "import time\n",
    "\n",
    "\n",
    "movie_reviews = []\n",
    "movie_scores = []\n",
    "\n",
    "for i in range(1,450):\n",
    "    url = \"https://movie.naver.com/movie/bi/mi/pointWriteFormList.naver?code=136869&type=after&isActualPointWriteExecute=false&isMileageSubscriptionAlready=false&isMileageSubscriptionReject=false&page=\" + str(i)\n",
    "    html = urlopen(url)\n",
    "    \n",
    "    soup = BeautifulSoup(html.read(), \"html.parser\")\n",
    "    \n",
    "    time.sleep(1)\n",
    "    \n",
    "    review_text = []\n",
    "    points_text = []\n",
    "    \n",
    "    scores = soup.find_all('div',{'class' : \"star_score\"})\n",
    "    for data in scores:\n",
    "        sc = data.find('em')\n",
    "        points_text.append(float(sc.text))\n",
    "    \n",
    "\n",
    "    delidx = []\n",
    "    for j in range(10):\n",
    "        re = soup.find('span',{'id' :\"_filtered_ment_\" + str(j)})\n",
    "        if re:\n",
    "            review_text.append(re.get_text().strip())\n",
    "\n",
    "    \n",
    "    movie_reviews += review_text\n",
    "    movie_scores += points_text\n"
   ]
  },
  {
   "cell_type": "markdown",
   "id": "16b642c5",
   "metadata": {},
   "source": [
    "## 크롤링 결과 frame 저장"
   ]
  },
  {
   "cell_type": "code",
   "execution_count": 20,
   "id": "0a4f5c73",
   "metadata": {},
   "outputs": [
    {
     "data": {
      "text/html": [
       "<div>\n",
       "<style scoped>\n",
       "    .dataframe tbody tr th:only-of-type {\n",
       "        vertical-align: middle;\n",
       "    }\n",
       "\n",
       "    .dataframe tbody tr th {\n",
       "        vertical-align: top;\n",
       "    }\n",
       "\n",
       "    .dataframe thead th {\n",
       "        text-align: right;\n",
       "    }\n",
       "</style>\n",
       "<table border=\"1\" class=\"dataframe\">\n",
       "  <thead>\n",
       "    <tr style=\"text-align: right;\">\n",
       "      <th></th>\n",
       "      <th>score</th>\n",
       "      <th>review</th>\n",
       "    </tr>\n",
       "  </thead>\n",
       "  <tbody>\n",
       "    <tr>\n",
       "      <th>0</th>\n",
       "      <td>10.0</td>\n",
       "      <td>이 내러티브에 대하여 고작 반전, 서스펜스, 스릴러 타령이나 하시는 평론가 분들께선...</td>\n",
       "    </tr>\n",
       "    <tr>\n",
       "      <th>1</th>\n",
       "      <td>8.0</td>\n",
       "      <td>\"전쟁을 하면 그 누구도 승자가 없다. 미망인만 생길 뿐\" -샹 장군 아내의 유언-</td>\n",
       "    </tr>\n",
       "    <tr>\n",
       "      <th>2</th>\n",
       "      <td>10.0</td>\n",
       "      <td>문과판 인터스텔라 라는 말이 이해가 된다</td>\n",
       "    </tr>\n",
       "    <tr>\n",
       "      <th>3</th>\n",
       "      <td>10.0</td>\n",
       "      <td>당신은 이미 끝을 알면서 무엇을 시작하겠다고 마음 먹을 수 있습니까?</td>\n",
       "    </tr>\n",
       "    <tr>\n",
       "      <th>4</th>\n",
       "      <td>10.0</td>\n",
       "      <td>이 영화가 어렵지만 반드시 봐야하는 이유는 진짜 ‘지금까지 본 적 없는 SF’이기 때문</td>\n",
       "    </tr>\n",
       "    <tr>\n",
       "      <th>...</th>\n",
       "      <td>...</td>\n",
       "      <td>...</td>\n",
       "    </tr>\n",
       "    <tr>\n",
       "      <th>4480</th>\n",
       "      <td>9.0</td>\n",
       "      <td>영화는 재밌는데 영화중간에 봉지과자좀 쳐 뜯어먹지마라 그리고 핸드폰 전화가 왔음 진...</td>\n",
       "    </tr>\n",
       "    <tr>\n",
       "      <th>4481</th>\n",
       "      <td>10.0</td>\n",
       "      <td>이건 영화관 가서 봐라.</td>\n",
       "    </tr>\n",
       "    <tr>\n",
       "      <th>4482</th>\n",
       "      <td>10.0</td>\n",
       "      <td>외계인과의 소통 지금 누구하고 다르게 그만큼 소통이 중요하죠</td>\n",
       "    </tr>\n",
       "    <tr>\n",
       "      <th>4483</th>\n",
       "      <td>10.0</td>\n",
       "      <td>최고의 SF 영화 이건 다시 한 번 극장각임</td>\n",
       "    </tr>\n",
       "    <tr>\n",
       "      <th>4484</th>\n",
       "      <td>10.0</td>\n",
       "      <td>한나는 거꾸로해도 한나 ...</td>\n",
       "    </tr>\n",
       "  </tbody>\n",
       "</table>\n",
       "<p>4485 rows × 2 columns</p>\n",
       "</div>"
      ],
      "text/plain": [
       "      score                                             review\n",
       "0      10.0  이 내러티브에 대하여 고작 반전, 서스펜스, 스릴러 타령이나 하시는 평론가 분들께선...\n",
       "1       8.0     \"전쟁을 하면 그 누구도 승자가 없다. 미망인만 생길 뿐\" -샹 장군 아내의 유언-\n",
       "2      10.0                             문과판 인터스텔라 라는 말이 이해가 된다\n",
       "3      10.0             당신은 이미 끝을 알면서 무엇을 시작하겠다고 마음 먹을 수 있습니까?\n",
       "4      10.0   이 영화가 어렵지만 반드시 봐야하는 이유는 진짜 ‘지금까지 본 적 없는 SF’이기 때문\n",
       "...     ...                                                ...\n",
       "4480    9.0  영화는 재밌는데 영화중간에 봉지과자좀 쳐 뜯어먹지마라 그리고 핸드폰 전화가 왔음 진...\n",
       "4481   10.0                                      이건 영화관 가서 봐라.\n",
       "4482   10.0                  외계인과의 소통 지금 누구하고 다르게 그만큼 소통이 중요하죠\n",
       "4483   10.0                           최고의 SF 영화 이건 다시 한 번 극장각임\n",
       "4484   10.0                                   한나는 거꾸로해도 한나 ...\n",
       "\n",
       "[4485 rows x 2 columns]"
      ]
     },
     "execution_count": 20,
     "metadata": {},
     "output_type": "execute_result"
    }
   ],
   "source": [
    "import pandas as pd\n",
    "\n",
    "frame = pd.DataFrame({'score': movie_scores, 'review': movie_reviews})\n",
    "frame"
   ]
  },
  {
   "cell_type": "markdown",
   "id": "0c1f2750",
   "metadata": {},
   "source": [
    "## 긍정 및 부정 각각 비슷한 비율의 갯수로 문장 가져오기위한 갯수 파악"
   ]
  },
  {
   "cell_type": "code",
   "execution_count": 21,
   "id": "b215b699",
   "metadata": {},
   "outputs": [
    {
     "data": {
      "text/plain": [
       "<bound method DataFrame.count of       score                                             review\n",
       "0      10.0  이 내러티브에 대하여 고작 반전, 서스펜스, 스릴러 타령이나 하시는 평론가 분들께선...\n",
       "2      10.0                             문과판 인터스텔라 라는 말이 이해가 된다\n",
       "3      10.0             당신은 이미 끝을 알면서 무엇을 시작하겠다고 마음 먹을 수 있습니까?\n",
       "4      10.0   이 영화가 어렵지만 반드시 봐야하는 이유는 진짜 ‘지금까지 본 적 없는 SF’이기 때문\n",
       "5      10.0  외계와의 첫 접촉에 대한 영화는 많았지만 쌩 호들갑 떨지않고 이렇게 담담하고 이지적...\n",
       "...     ...                                                ...\n",
       "4480    9.0  영화는 재밌는데 영화중간에 봉지과자좀 쳐 뜯어먹지마라 그리고 핸드폰 전화가 왔음 진...\n",
       "4481   10.0                                      이건 영화관 가서 봐라.\n",
       "4482   10.0                  외계인과의 소통 지금 누구하고 다르게 그만큼 소통이 중요하죠\n",
       "4483   10.0                           최고의 SF 영화 이건 다시 한 번 극장각임\n",
       "4484   10.0                                   한나는 거꾸로해도 한나 ...\n",
       "\n",
       "[3221 rows x 2 columns]>"
      ]
     },
     "execution_count": 21,
     "metadata": {},
     "output_type": "execute_result"
    }
   ],
   "source": [
    "frame[frame['score']>8].count"
   ]
  },
  {
   "cell_type": "code",
   "execution_count": 137,
   "id": "e1dc2d05",
   "metadata": {},
   "outputs": [
    {
     "data": {
      "text/plain": [
       "<bound method DataFrame.count of       score                                             review\n",
       "135     1.0                           Arrival은 한국어로 [컨택트]라고 읽음\n",
       "159     1.0  인문학적 영화라고 하는데 말하고자 하는 시간에 대한 이야기와 외계인이라는 소재가 그...\n",
       "201     1.0                                      중국자본 들어갔음?잣같네\n",
       "226     1.0                                 졸면서 봤다.. 실화냐이거 ㅋㅋㅋ\n",
       "228     1.0  주인공이 그런 인지능력을 갖게 된 경위는 다 떼어먹고, 결국 외계언어로 일방적 통보...\n",
       "...     ...                                                ...\n",
       "2703    4.0                                    처음부터 끝까지 컴컴한 화면\n",
       "2862    3.0                                  외계인을 상상하기가 쉽지가 않네\n",
       "4266    4.0  내가좋아하는 감독, 배우들, 음악도 나쁘지 않음. 그런데 뭔가 내 마음에 와닿지 않...\n",
       "4268    4.0                                    그냥생각보다는 기대를좀했더니\n",
       "4355    4.0                                      잘봤습니다   감사합니다\n",
       "\n",
       "[280 rows x 2 columns]>"
      ]
     },
     "execution_count": 137,
     "metadata": {},
     "output_type": "execute_result"
    }
   ],
   "source": [
    "frame[frame['score']<5].count"
   ]
  },
  {
   "cell_type": "markdown",
   "id": "edc4b373",
   "metadata": {},
   "source": [
    "부정의 문장이 280개 이므로 긍정의 문장도 280개를 가져온다."
   ]
  },
  {
   "cell_type": "code",
   "execution_count": 49,
   "id": "9e8d8696",
   "metadata": {},
   "outputs": [
    {
     "data": {
      "text/html": [
       "<div>\n",
       "<style scoped>\n",
       "    .dataframe tbody tr th:only-of-type {\n",
       "        vertical-align: middle;\n",
       "    }\n",
       "\n",
       "    .dataframe tbody tr th {\n",
       "        vertical-align: top;\n",
       "    }\n",
       "\n",
       "    .dataframe thead th {\n",
       "        text-align: right;\n",
       "    }\n",
       "</style>\n",
       "<table border=\"1\" class=\"dataframe\">\n",
       "  <thead>\n",
       "    <tr style=\"text-align: right;\">\n",
       "      <th></th>\n",
       "      <th>score</th>\n",
       "      <th>review</th>\n",
       "    </tr>\n",
       "  </thead>\n",
       "  <tbody>\n",
       "    <tr>\n",
       "      <th>0</th>\n",
       "      <td>10.0</td>\n",
       "      <td>이 내러티브에 대하여 고작 반전, 서스펜스, 스릴러 타령이나 하시는 평론가 분들께선...</td>\n",
       "    </tr>\n",
       "    <tr>\n",
       "      <th>2</th>\n",
       "      <td>10.0</td>\n",
       "      <td>문과판 인터스텔라 라는 말이 이해가 된다</td>\n",
       "    </tr>\n",
       "    <tr>\n",
       "      <th>3</th>\n",
       "      <td>10.0</td>\n",
       "      <td>당신은 이미 끝을 알면서 무엇을 시작하겠다고 마음 먹을 수 있습니까?</td>\n",
       "    </tr>\n",
       "    <tr>\n",
       "      <th>4</th>\n",
       "      <td>10.0</td>\n",
       "      <td>이 영화가 어렵지만 반드시 봐야하는 이유는 진짜 ‘지금까지 본 적 없는 SF’이기 때문</td>\n",
       "    </tr>\n",
       "    <tr>\n",
       "      <th>5</th>\n",
       "      <td>10.0</td>\n",
       "      <td>외계와의 첫 접촉에 대한 영화는 많았지만 쌩 호들갑 떨지않고 이렇게 담담하고 이지적...</td>\n",
       "    </tr>\n",
       "    <tr>\n",
       "      <th>...</th>\n",
       "      <td>...</td>\n",
       "      <td>...</td>\n",
       "    </tr>\n",
       "    <tr>\n",
       "      <th>2703</th>\n",
       "      <td>4.0</td>\n",
       "      <td>처음부터 끝까지 컴컴한 화면</td>\n",
       "    </tr>\n",
       "    <tr>\n",
       "      <th>2862</th>\n",
       "      <td>3.0</td>\n",
       "      <td>외계인을 상상하기가 쉽지가 않네</td>\n",
       "    </tr>\n",
       "    <tr>\n",
       "      <th>4266</th>\n",
       "      <td>4.0</td>\n",
       "      <td>내가좋아하는 감독, 배우들, 음악도 나쁘지 않음. 그런데 뭔가 내 마음에 와닿지 않...</td>\n",
       "    </tr>\n",
       "    <tr>\n",
       "      <th>4268</th>\n",
       "      <td>4.0</td>\n",
       "      <td>그냥생각보다는 기대를좀했더니</td>\n",
       "    </tr>\n",
       "    <tr>\n",
       "      <th>4355</th>\n",
       "      <td>4.0</td>\n",
       "      <td>잘봤습니다   감사합니다</td>\n",
       "    </tr>\n",
       "  </tbody>\n",
       "</table>\n",
       "<p>560 rows × 2 columns</p>\n",
       "</div>"
      ],
      "text/plain": [
       "      score                                             review\n",
       "0      10.0  이 내러티브에 대하여 고작 반전, 서스펜스, 스릴러 타령이나 하시는 평론가 분들께선...\n",
       "2      10.0                             문과판 인터스텔라 라는 말이 이해가 된다\n",
       "3      10.0             당신은 이미 끝을 알면서 무엇을 시작하겠다고 마음 먹을 수 있습니까?\n",
       "4      10.0   이 영화가 어렵지만 반드시 봐야하는 이유는 진짜 ‘지금까지 본 적 없는 SF’이기 때문\n",
       "5      10.0  외계와의 첫 접촉에 대한 영화는 많았지만 쌩 호들갑 떨지않고 이렇게 담담하고 이지적...\n",
       "...     ...                                                ...\n",
       "2703    4.0                                    처음부터 끝까지 컴컴한 화면\n",
       "2862    3.0                                  외계인을 상상하기가 쉽지가 않네\n",
       "4266    4.0  내가좋아하는 감독, 배우들, 음악도 나쁘지 않음. 그런데 뭔가 내 마음에 와닿지 않...\n",
       "4268    4.0                                    그냥생각보다는 기대를좀했더니\n",
       "4355    4.0                                      잘봤습니다   감사합니다\n",
       "\n",
       "[560 rows x 2 columns]"
      ]
     },
     "execution_count": 49,
     "metadata": {},
     "output_type": "execute_result"
    }
   ],
   "source": [
    "pos = pd.DataFrame({'score' : frame[frame['score']>8]['score'][:280],'review' : frame[frame['score']>8]['review'][:280]})\n",
    "\n",
    "neg = pd.DataFrame({'score' : frame[frame['score']<5]['score'][:280],'review' : frame[frame['score']<5]['review'][:280]})\n",
    "\n",
    "df = pd.concat([pos,neg])\n",
    "df"
   ]
  },
  {
   "cell_type": "markdown",
   "id": "3618945d",
   "metadata": {},
   "source": [
    "# 1) 워드 클라우드 그리기"
   ]
  },
  {
   "cell_type": "code",
   "execution_count": 45,
   "id": "18019f5f",
   "metadata": {},
   "outputs": [],
   "source": [
    "from konlpy.tag import Okt\n",
    "okt = Okt()"
   ]
  },
  {
   "cell_type": "code",
   "execution_count": 46,
   "id": "6bbe9585",
   "metadata": {},
   "outputs": [
    {
     "name": "stdout",
     "output_type": "stream",
     "text": [
      "이 내러티브에 대하여 고작 반전, 서스펜스, 스릴러 타령이나 하시는 평론가 분들께선 다함께 손 잡고 은퇴하시는 게 어떻습니까?\n",
      "문과판 인터스텔라 라는 말이 이해가 된다\n",
      "당신은 이미 끝을 알면서 무엇을 시작하겠다고 마음 먹을 수 있습니까?\n",
      "이 영화가 어렵지만 반드시 봐야하는 이유는 진짜 ‘지금까지 본 적 없는 SF’이기 때문\n",
      "외계와의 첫 접촉에 대한 영화는 많았지만 쌩 호들갑 떨지않고 이렇게 담담하고 이지적으로 접근한 영화는 없었던거 같다. 정말로 지구 밖 문명이 도착(arrival)한다면 우리 인류는 이렇게 할 수 있을까.\n",
      "와 진짜 이런영화는 어쩌다 탄생하냐 ㅋㅋㅋ\n",
      "간만에 지적인 sf영화가 나왔다.\n",
      "외계인을 만나면 무엇이 재일 먼저 바뀔까? 기술? 과학? 언어? 이 영화는 더욱 근본적인걸 건들였다. 인간이 사유하는 방식이 바뀔 수 있다는걸\n",
      "진짜 대박영화 그동안 봤던 SF물 영화가 아님 몰입력 역대급\n",
      "영화를 보면서 내용에 대한 약간의 생각도 귀찮아하는 불친절한 영화를 싫어한다면 보지 말 것. 때리고 부수는 SF를 기대한다면 보지 말 것. 그럼에도 괜히 보고나서 평점 낮추지 말 것.\n",
      "꼭 설명이 충분하지 않아도 관람자 입장에서 해석되는 끝없이 잔잔하게 치는 파도같은 영화.. 과연 한국에서 흥행할 수 있을지 의문이긴 하네요\n",
      "음악이 정말 한몫하는군요 자동차 엔진도 녀석들 소리로 들리더만요 휴\n",
      "왜 크리스토퍼 놀란 감독을 잇는 감독이라고 칭하는지 알겠음  영화 너무 좋음\n",
      "언어학과 상상력을 이렇게 조합할 수 있구나 하는 걸 느끼고 돌아갑니다.\n",
      "여운이 긴 영화입니다.원작도 읽어보고 싶어요!\n",
      "드니 빌뇌브가 재능있는 감독임이 다시 한번 입증되었다. 더불어 10월에 개봉할 블레이드 러너 2049에 대한 기대감이 한층 높아졌다.\n",
      "인문학적 상상력으로 잘 짜여진 운명과 패러독스\n",
      "이게 왜 이해하기가 어렵징? 작중에서 친절하게 모든 설명을 해주는데....\n",
      "에이미아담스의 연기력을 제대로 보여줌 인생영화가 아닐까\n",
      "사람은 자신이 쓰는 언어에 따라 생각하게 된다.\n",
      "영화가 끝나고 한참을 앉아있었다.\n"
     ]
    }
   ],
   "source": [
    "ko_doc = '\\n'.join(df['review'])\n",
    "print(ko_doc[:1000])"
   ]
  },
  {
   "cell_type": "code",
   "execution_count": 47,
   "id": "fcd4222b",
   "metadata": {},
   "outputs": [
    {
     "name": "stdout",
     "output_type": "stream",
     "text": [
      "31375\n"
     ]
    }
   ],
   "source": [
    "print(len(ko_doc))"
   ]
  },
  {
   "cell_type": "code",
   "execution_count": 48,
   "id": "8e8b2ee2",
   "metadata": {},
   "outputs": [
    {
     "name": "stdout",
     "output_type": "stream",
     "text": [
      "9.818610191345215\n"
     ]
    }
   ],
   "source": [
    "import time\n",
    "\n",
    "start = time.time()\n",
    "ko_doc_noun = okt.nouns(ko_doc)\n",
    "print(time.time()-start)"
   ]
  },
  {
   "cell_type": "code",
   "execution_count": 50,
   "id": "c2ceb312",
   "metadata": {},
   "outputs": [],
   "source": [
    "from collections import Counter\n",
    "\n",
    "count_noun = Counter(ko_doc_noun)"
   ]
  },
  {
   "cell_type": "markdown",
   "id": "76a3dce7",
   "metadata": {},
   "source": [
    "## 리뷰 데이터의 단어 별 빈도수 확인 후 의미 없는 단어 삭제"
   ]
  },
  {
   "cell_type": "code",
   "execution_count": 51,
   "id": "939f0b82",
   "metadata": {},
   "outputs": [
    {
     "data": {
      "text/plain": [
       "[('영화', 386),\n",
       " ('외계인', 69),\n",
       " ('생각', 57),\n",
       " ('이', 51),\n",
       " ('이해', 50),\n",
       " ('것', 50),\n",
       " ('내용', 46),\n",
       " ('정말', 44),\n",
       " ('진짜', 43),\n",
       " ('평점', 41),\n",
       " ('미래', 40),\n",
       " ('수', 38),\n",
       " ('그', 37),\n",
       " ('시간', 37),\n",
       " ('점', 36),\n",
       " ('왜', 32),\n",
       " ('사람', 32),\n",
       " ('언어', 31),\n",
       " ('감독', 31),\n",
       " ('말', 28)]"
      ]
     },
     "execution_count": 51,
     "metadata": {},
     "output_type": "execute_result"
    }
   ],
   "source": [
    "count_noun.most_common(20)"
   ]
  },
  {
   "cell_type": "code",
   "execution_count": 52,
   "id": "01bfc4a2",
   "metadata": {},
   "outputs": [
    {
     "data": {
      "text/plain": [
       "['꾹', '값', '뼈', '책', '퉷']"
      ]
     },
     "execution_count": 52,
     "metadata": {},
     "output_type": "execute_result"
    }
   ],
   "source": [
    "stopword_list = ['영화','것','이','수','그', '컨택트']\n",
    "\n",
    "for word in count_noun:\n",
    "    if len(word) == 1:\n",
    "        stopword_list.append(word)\n",
    "        \n",
    "stopword_list[-5:]"
   ]
  },
  {
   "cell_type": "code",
   "execution_count": 53,
   "id": "47698957",
   "metadata": {},
   "outputs": [],
   "source": [
    "# stopword 단어를 모두 pop()\n",
    "\n",
    "for stopword in stopword_list:\n",
    "    if stopword in count_noun:\n",
    "        count_noun.pop(stopword)"
   ]
  },
  {
   "cell_type": "code",
   "execution_count": 54,
   "id": "cbd8dc75",
   "metadata": {},
   "outputs": [],
   "source": [
    "import numpy as np\n",
    "from PIL import Image\n",
    "\n",
    "img_mask = np.array(Image.open('present.jpg'))"
   ]
  },
  {
   "cell_type": "code",
   "execution_count": 55,
   "id": "4dab65ce",
   "metadata": {},
   "outputs": [
    {
     "data": {
      "image/png": "[encoded data removed]",
      "text/plain": [
       "<Figure size 432x288 with 1 Axes>"
      ]
     },
     "metadata": {
      "needs_background": "light"
     },
     "output_type": "display_data"
    }
   ],
   "source": [
    "from wordcloud import WordCloud\n",
    "\n",
    "# mac OS: '/Library/Fonts/NanumBarunGothic.ttf'\n",
    "wc_noun = WordCloud(background_color='white', max_words=2000, \n",
    "                     font_path=r'C:\\Windows\\Fonts\\HMFMPYUN.ttf', mask=img_mask)\n",
    "wc_noun = wc_noun.generate_from_frequencies(count_noun)\n",
    "\n",
    "import matplotlib.pyplot as plt\n",
    "plt.imshow(wc_noun, interpolation=\"bilinear\")\n",
    "plt.axis(\"off\")\n",
    "plt.show()"
   ]
  },
  {
   "cell_type": "markdown",
   "id": "56457a79",
   "metadata": {},
   "source": [
    "# 2) 분류기 학습시키기"
   ]
  },
  {
   "cell_type": "markdown",
   "id": "43dac6fe",
   "metadata": {},
   "source": [
    "데이터 전처리"
   ]
  },
  {
   "cell_type": "code",
   "execution_count": 67,
   "id": "98534eff",
   "metadata": {},
   "outputs": [
    {
     "data": {
      "text/html": [
       "<div>\n",
       "<style scoped>\n",
       "    .dataframe tbody tr th:only-of-type {\n",
       "        vertical-align: middle;\n",
       "    }\n",
       "\n",
       "    .dataframe tbody tr th {\n",
       "        vertical-align: top;\n",
       "    }\n",
       "\n",
       "    .dataframe thead th {\n",
       "        text-align: right;\n",
       "    }\n",
       "</style>\n",
       "<table border=\"1\" class=\"dataframe\">\n",
       "  <thead>\n",
       "    <tr style=\"text-align: right;\">\n",
       "      <th></th>\n",
       "      <th>score</th>\n",
       "      <th>review</th>\n",
       "    </tr>\n",
       "  </thead>\n",
       "  <tbody>\n",
       "    <tr>\n",
       "      <th>0</th>\n",
       "      <td>pos</td>\n",
       "      <td>이 내러티브에 대하여 고작 반전, 서스펜스, 스릴러 타령이나 하시는 평론가 분들께선...</td>\n",
       "    </tr>\n",
       "    <tr>\n",
       "      <th>2</th>\n",
       "      <td>pos</td>\n",
       "      <td>문과판 인터스텔라 라는 말이 이해가 된다</td>\n",
       "    </tr>\n",
       "    <tr>\n",
       "      <th>3</th>\n",
       "      <td>pos</td>\n",
       "      <td>당신은 이미 끝을 알면서 무엇을 시작하겠다고 마음 먹을 수 있습니까?</td>\n",
       "    </tr>\n",
       "    <tr>\n",
       "      <th>4</th>\n",
       "      <td>pos</td>\n",
       "      <td>이 영화가 어렵지만 반드시 봐야하는 이유는 진짜 ‘지금까지 본 적 없는 SF’이기 때문</td>\n",
       "    </tr>\n",
       "    <tr>\n",
       "      <th>5</th>\n",
       "      <td>pos</td>\n",
       "      <td>외계와의 첫 접촉에 대한 영화는 많았지만 쌩 호들갑 떨지않고 이렇게 담담하고 이지적...</td>\n",
       "    </tr>\n",
       "    <tr>\n",
       "      <th>...</th>\n",
       "      <td>...</td>\n",
       "      <td>...</td>\n",
       "    </tr>\n",
       "    <tr>\n",
       "      <th>2703</th>\n",
       "      <td>neg</td>\n",
       "      <td>처음부터 끝까지 컴컴한 화면</td>\n",
       "    </tr>\n",
       "    <tr>\n",
       "      <th>2862</th>\n",
       "      <td>neg</td>\n",
       "      <td>외계인을 상상하기가 쉽지가 않네</td>\n",
       "    </tr>\n",
       "    <tr>\n",
       "      <th>4266</th>\n",
       "      <td>neg</td>\n",
       "      <td>내가좋아하는 감독, 배우들, 음악도 나쁘지 않음. 그런데 뭔가 내 마음에 와닿지 않...</td>\n",
       "    </tr>\n",
       "    <tr>\n",
       "      <th>4268</th>\n",
       "      <td>neg</td>\n",
       "      <td>그냥생각보다는 기대를좀했더니</td>\n",
       "    </tr>\n",
       "    <tr>\n",
       "      <th>4355</th>\n",
       "      <td>neg</td>\n",
       "      <td>잘봤습니다   감사합니다</td>\n",
       "    </tr>\n",
       "  </tbody>\n",
       "</table>\n",
       "<p>560 rows × 2 columns</p>\n",
       "</div>"
      ],
      "text/plain": [
       "     score                                             review\n",
       "0      pos  이 내러티브에 대하여 고작 반전, 서스펜스, 스릴러 타령이나 하시는 평론가 분들께선...\n",
       "2      pos                             문과판 인터스텔라 라는 말이 이해가 된다\n",
       "3      pos             당신은 이미 끝을 알면서 무엇을 시작하겠다고 마음 먹을 수 있습니까?\n",
       "4      pos   이 영화가 어렵지만 반드시 봐야하는 이유는 진짜 ‘지금까지 본 적 없는 SF’이기 때문\n",
       "5      pos  외계와의 첫 접촉에 대한 영화는 많았지만 쌩 호들갑 떨지않고 이렇게 담담하고 이지적...\n",
       "...    ...                                                ...\n",
       "2703   neg                                    처음부터 끝까지 컴컴한 화면\n",
       "2862   neg                                  외계인을 상상하기가 쉽지가 않네\n",
       "4266   neg  내가좋아하는 감독, 배우들, 음악도 나쁘지 않음. 그런데 뭔가 내 마음에 와닿지 않...\n",
       "4268   neg                                    그냥생각보다는 기대를좀했더니\n",
       "4355   neg                                      잘봤습니다   감사합니다\n",
       "\n",
       "[560 rows x 2 columns]"
      ]
     },
     "execution_count": 67,
     "metadata": {},
     "output_type": "execute_result"
    }
   ],
   "source": [
    "df_pos = pd.DataFrame({'score':'pos','review':pos['review']})\n",
    "df_neg = pd.DataFrame({'score':'neg','review':neg['review']})\n",
    "\n",
    "df_nltk = pd.concat([df_pos,df_neg])\n",
    "df_nltk"
   ]
  },
  {
   "cell_type": "markdown",
   "id": "fcde5f3a",
   "metadata": {},
   "source": [
    "## 함수로 작성\n",
    "### pos_tokenize\n",
    "#### 문장을 형태소 단위로 분리해주는 함수\n",
    "\n",
    "### make_word_dict\n",
    "#### 모든 단어를 모아 집합으로 만드는 함수\n",
    "#### 의미 없는 단어인 조사는 제거\n",
    "\n",
    "### make_train_feats\n",
    "#### 각 문장마다 단어가 있는지 없는지 여부로 표현해주는 함수"
   ]
  },
  {
   "cell_type": "code",
   "execution_count": 68,
   "id": "881db6a8",
   "metadata": {},
   "outputs": [],
   "source": [
    "from nltk.tokenize import word_tokenize\n",
    "import nltk\n",
    "\n",
    "from konlpy.tag import Okt\n",
    "okt = Okt()\n",
    "\n",
    "def pos_tokenize(raw_sent):\n",
    "    pos_sent = []\n",
    "    sent = okt.pos(raw_sent, norm = True, stem = True)\n",
    "\n",
    "    for tup in sent:\n",
    "        word, tag = tup[0], tup[1]\n",
    "        word_tag = word +'/' + tag\n",
    "        pos_sent.append(word_tag)\n",
    "\n",
    "    return ' '.join(pos_sent)\n",
    "\n",
    "def make_word_dict(train, use_morph=False):\n",
    "    all_words = set()\n",
    "    \n",
    "    for tup in train:\n",
    "        sent, label = tup[0], tup[1]\n",
    "        if use_morph : \n",
    "            sent = pos_tokenize(sent)\n",
    "        words = nltk.word_tokenize(sent)\n",
    "        for word in words:\n",
    "            all_words.add(word)\n",
    "            \n",
    "    return all_words\n",
    "\n",
    "def make_train_feats(train, all_words, use_morph=False):\n",
    "    train_features = []\n",
    "    \n",
    "    for tup in train:\n",
    "        sent, label = tup[0], tup[1]\n",
    "        if use_morph: sent = pos_tokenize(sent)\n",
    "        words = word_tokenize(sent)\n",
    "        tmp = { set_word : (set_word in words) for set_word in all_words}\n",
    "        sent_tup = (tmp,label)\n",
    "        train_features.append(sent_tup)\n",
    "        \n",
    "    return train_features"
   ]
  },
  {
   "cell_type": "code",
   "execution_count": 71,
   "id": "3e5cefc7",
   "metadata": {},
   "outputs": [],
   "source": [
    "train = []\n",
    "for idx,data in enumerate(df_nltk.iloc):\n",
    "    train.append((data[1],data[0]))\n",
    "    "
   ]
  },
  {
   "cell_type": "markdown",
   "id": "fe2946c7",
   "metadata": {},
   "source": [
    "### Test 수행\n",
    "\n",
    "#### 1. 돈주고 보기 아까운 영화\n",
    "#### 2. 보다가 잤어요\n",
    "#### 3. 너무 여운이 남아요\n",
    "#### 4. 중국산 영화 같아요\n",
    "#### 5. 기대 이상으로 재미 있어요"
   ]
  },
  {
   "cell_type": "code",
   "execution_count": 100,
   "id": "cfe75f5b",
   "metadata": {},
   "outputs": [],
   "source": [
    "use_morph = True\n",
    "all_words = make_word_dict(train, use_morph)\n",
    "train_features = make_train_feats(train, all_words, use_morph)"
   ]
  },
  {
   "cell_type": "code",
   "execution_count": 101,
   "id": "d2998f38",
   "metadata": {},
   "outputs": [
    {
     "name": "stdout",
     "output_type": "stream",
     "text": [
      "단어 집합 개수:  2540\n"
     ]
    }
   ],
   "source": [
    "print('단어 집합 개수: ', len(all_words))"
   ]
  },
  {
   "cell_type": "code",
   "execution_count": 102,
   "id": "ada0975e",
   "metadata": {},
   "outputs": [
    {
     "name": "stdout",
     "output_type": "stream",
     "text": [
      "Most Informative Features\n",
      "          재미없다/Adjective = True              neg : pos    =     17.0 : 1.0\n",
      "                 인생/Noun = True              pos : neg    =     10.3 : 1.0\n",
      "                 우리/Noun = True              pos : neg    =      8.3 : 1.0\n",
      "           아깝다/Adjective = True              neg : pos    =      8.2 : 1.0\n",
      "                  삶/Noun = True              pos : neg    =      7.7 : 1.0\n",
      "                 최고/Noun = True              pos : neg    =      7.4 : 1.0\n",
      "                 중국/Noun = True              neg : pos    =      7.0 : 1.0\n",
      "            높다/Adjective = True              neg : pos    =      6.6 : 1.0\n",
      "                 모두/Noun = True              pos : neg    =      6.3 : 1.0\n",
      "                 여운/Noun = True              pos : neg    =      6.3 : 1.0\n"
     ]
    }
   ],
   "source": [
    "classifier = nltk.NaiveBayesClassifier.train(train_features)\n",
    "classifier.show_most_informative_features()"
   ]
  },
  {
   "cell_type": "code",
   "execution_count": 121,
   "id": "a8a19f6e",
   "metadata": {},
   "outputs": [
    {
     "name": "stdout",
     "output_type": "stream",
     "text": [
      "돈/Noun 주다/Verb 보기/Noun 아깝다/Adjective 영화/Noun 의 결과 :\n",
      "neg\n",
      "보다/Verb 자다/Verb 의 결과 :\n",
      "pos\n",
      "여운/Noun 이/Josa 남아/Noun 요/Josa 의 결과 :\n",
      "pos\n",
      "중국산/Noun 영화/Noun 같다/Adjective 의 결과 :\n",
      "pos\n",
      "많다/Adjective 생각/Noun 을/Josa 하다/Verb 되어다/Verb 의 결과 :\n",
      "pos\n"
     ]
    }
   ],
   "source": [
    "test_sentes = ['돈주고 보기 아까운 영화','보다가 잤어요', '여운이 남아요', '중국산 영화 같아요', '많은 생각을 하게 되어요']\n",
    "\n",
    "for test_sent in test_sentes:\n",
    "    if use_morph: test_sent = pos_tokenize(test_sent)\n",
    "    words = word_tokenize(test_sent)\n",
    "    test_feature = {set_word: (set_word in words) for set_word in all_words}\n",
    "    print(test_sent + ' 의 결과 :')\n",
    "    print(classifier.classify(test_feature))"
   ]
  },
  {
   "cell_type": "markdown",
   "id": "4d9c53a9",
   "metadata": {},
   "source": [
    "#### 예상과 다른 결과를 보여준 test 값은 \n",
    "#### 2. 보다가 잤어요\n",
    "#### 4. 중국산 영화 같아요"
   ]
  },
  {
   "cell_type": "code",
   "execution_count": 132,
   "id": "12df83d8",
   "metadata": {},
   "outputs": [
    {
     "name": "stdout",
     "output_type": "stream",
     "text": [
      "보다/Verb 의 결과 :\n",
      "pos\n",
      "자다/Verb 의 결과 :\n",
      "pos\n",
      "잠들다/Verb 의 결과 :\n",
      "neg\n",
      "보다/Verb 잠들다/Verb 의 결과 :\n",
      "neg\n"
     ]
    }
   ],
   "source": [
    "test_sentes = ['보다가','자다','잠들다','보다가 잠들었어요']\n",
    "\n",
    "for test_sent in test_sentes:\n",
    "    if use_morph: test_sent = pos_tokenize(test_sent)\n",
    "    words = word_tokenize(test_sent)\n",
    "    test_feature = {set_word: (set_word in words) for set_word in all_words}\n",
    "    print(test_sent + ' 의 결과 :')\n",
    "    print(classifier.classify(test_feature))"
   ]
  },
  {
   "cell_type": "markdown",
   "id": "a2d8e12f",
   "metadata": {},
   "source": [
    "위의 값을 보면 보다가 잤어요에서 자다 동사를 잠들다 동사로 교체하여 수행하였더니 예상과 같은 결과가 나왔다.\n",
    "\n",
    "위와 같은 결과가 나온 이유는 분류기 학습의 데이터 양이 적어서 그런것 같다."
   ]
  },
  {
   "cell_type": "code",
   "execution_count": 136,
   "id": "cb52e76a",
   "metadata": {},
   "outputs": [
    {
     "name": "stdout",
     "output_type": "stream",
     "text": [
      "중국산/Noun 의 결과 :\n",
      "pos\n",
      "중국/Noun 의 결과 :\n",
      "neg\n",
      "중국/Noun 영화/Noun 같다/Adjective 의 결과 :\n",
      "neg\n"
     ]
    }
   ],
   "source": [
    "test_sentes = ['중국산','중국','중국 영화 같아요']\n",
    "\n",
    "for test_sent in test_sentes:\n",
    "    if use_morph: test_sent = pos_tokenize(test_sent)\n",
    "    words = word_tokenize(test_sent)\n",
    "    test_feature = {set_word: (set_word in words) for set_word in all_words}\n",
    "    print(test_sent + ' 의 결과 :')\n",
    "    print(classifier.classify(test_feature))"
   ]
  },
  {
   "cell_type": "markdown",
   "id": "21378702",
   "metadata": {},
   "source": [
    "이번에도 위와같이 중국산 명사를 중국 으로 교체하여 수행하였더니 예상과 같은 결과가 나왔다.\n",
    "\n",
    "이 또한 분류기 학습의 데이터 양이 적어서 그런것 같다."
   ]
  },
  {
   "cell_type": "code",
   "execution_count": null,
   "id": "483af011",
   "metadata": {},
   "outputs": [],
   "source": []
  }
 ],
 "metadata": {
  "kernelspec": {
   "display_name": "Python 3",
   "language": "python",
   "name": "python3"
  },
  "language_info": {
   "codemirror_mode": {
    "name": "ipython",
    "version": 3
   },
   "file_extension": ".py",
   "mimetype": "text/x-python",
   "name": "python",
   "nbconvert_exporter": "python",
   "pygments_lexer": "ipython3",
   "version": "3.8.8"
  }
 },
 "nbformat": 4,
 "nbformat_minor": 5
}
