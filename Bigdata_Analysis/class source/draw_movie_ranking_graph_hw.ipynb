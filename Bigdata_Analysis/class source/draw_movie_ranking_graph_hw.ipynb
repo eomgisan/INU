{
 "cells": [
  {
   "cell_type": "markdown",
   "metadata": {},
   "source": [
    "###### 특정 기간 혹은 날에 대한 영화 평점 그래프 그리기\n",
    "* pd.date_range() 변경하기\n",
    "* pivot_table()과 query() 이용하기\n",
    "\n",
    "# 201600282 엄기산"
   ]
  },
  {
   "cell_type": "markdown",
   "metadata": {},
   "source": [
    "## 영화 평점 데이터 가져오기"
   ]
  },
  {
   "cell_type": "code",
   "execution_count": 1,
   "metadata": {},
   "outputs": [
    {
     "data": {
      "application/vnd.jupyter.widget-view+json": {
       "model_id": "9ee73c5486d0497c8386b45d81a5d09d",
       "version_major": 2,
       "version_minor": 0
      },
      "text/plain": [
       "  0%|          | 0/50 [00:00<?, ?it/s]"
      ]
     },
     "metadata": {},
     "output_type": "display_data"
    }
   ],
   "source": [
    "import pandas as pd\n",
    "from urllib.request import urlopen\n",
    "from bs4 import BeautifulSoup\n",
    "from tqdm.notebook import tqdm\n",
    "\n",
    "import time\n",
    "\n",
    "days = 50\n",
    "date_list = pd.date_range('2020-01-03', periods=days, freq='D')\n",
    "\n",
    "movie_title = []\n",
    "movie_point = []\n",
    "movie_date = []\n",
    "\n",
    "for today in tqdm(date_list):\n",
    "    url = \"https://movie.naver.com/movie/sdb/rank/rmovie.nhn?sel=pnt&date=\" + (today.strftime('%Y%m%d'))\n",
    "    html = urlopen(url)\n",
    "    \n",
    "    soup = BeautifulSoup(html.read(), \"html.parser\")\n",
    "    \n",
    "        time.sleep(3)\n",
    "\n",
    "        titles = soup.find_all('em', {'class': 'tit5'})\n",
    "        points = soup.find_all('', {'class': 'point'})\n",
    "\n",
    "        titles_text = []\n",
    "        points_text = []\n",
    "        date = []\n",
    "        for t, p in zip(titles, points):\n",
    "            titles_text.append(t.text.strip(' \\n'))\n",
    "            points_text.append(float(p.text))\n",
    "            date.append(today)\n",
    "\n",
    "    movie_title += titles_text\n",
    "    movie_point += points_text\n",
    "    movie_date += date\n",
    "    \n",
    "# print(movie_point)"
   ]
  },
  {
   "cell_type": "markdown",
   "metadata": {},
   "source": [
    "## DataFrame으로 만들기"
   ]
  },
  {
   "cell_type": "code",
   "execution_count": 2,
   "metadata": {
    "scrolled": false
   },
   "outputs": [
    {
     "data": {
      "text/html": [
       "<div>\n",
       "<style scoped>\n",
       "    .dataframe tbody tr th:only-of-type {\n",
       "        vertical-align: middle;\n",
       "    }\n",
       "\n",
       "    .dataframe tbody tr th {\n",
       "        vertical-align: top;\n",
       "    }\n",
       "\n",
       "    .dataframe thead th {\n",
       "        text-align: right;\n",
       "    }\n",
       "</style>\n",
       "<table border=\"1\" class=\"dataframe\">\n",
       "  <thead>\n",
       "    <tr style=\"text-align: right;\">\n",
       "      <th></th>\n",
       "      <th>date</th>\n",
       "      <th>title</th>\n",
       "      <th>point</th>\n",
       "    </tr>\n",
       "  </thead>\n",
       "  <tbody>\n",
       "    <tr>\n",
       "      <th>0</th>\n",
       "      <td>2020-01-03</td>\n",
       "      <td>그린 북</td>\n",
       "      <td>9.61</td>\n",
       "    </tr>\n",
       "    <tr>\n",
       "      <th>1</th>\n",
       "      <td>2020-01-03</td>\n",
       "      <td>가버나움</td>\n",
       "      <td>9.59</td>\n",
       "    </tr>\n",
       "    <tr>\n",
       "      <th>2</th>\n",
       "      <td>2020-01-03</td>\n",
       "      <td>포드 V 페라리</td>\n",
       "      <td>9.56</td>\n",
       "    </tr>\n",
       "    <tr>\n",
       "      <th>3</th>\n",
       "      <td>2020-01-03</td>\n",
       "      <td>베일리 어게인</td>\n",
       "      <td>9.53</td>\n",
       "    </tr>\n",
       "    <tr>\n",
       "      <th>4</th>\n",
       "      <td>2020-01-03</td>\n",
       "      <td>주전장</td>\n",
       "      <td>9.53</td>\n",
       "    </tr>\n",
       "    <tr>\n",
       "      <th>...</th>\n",
       "      <td>...</td>\n",
       "      <td>...</td>\n",
       "      <td>...</td>\n",
       "    </tr>\n",
       "    <tr>\n",
       "      <th>2495</th>\n",
       "      <td>2020-02-21</td>\n",
       "      <td>굿 윌 헌팅</td>\n",
       "      <td>9.35</td>\n",
       "    </tr>\n",
       "    <tr>\n",
       "      <th>2496</th>\n",
       "      <td>2020-02-21</td>\n",
       "      <td>히든 피겨스</td>\n",
       "      <td>9.35</td>\n",
       "    </tr>\n",
       "    <tr>\n",
       "      <th>2497</th>\n",
       "      <td>2020-02-21</td>\n",
       "      <td>세 얼간이</td>\n",
       "      <td>9.35</td>\n",
       "    </tr>\n",
       "    <tr>\n",
       "      <th>2498</th>\n",
       "      <td>2020-02-21</td>\n",
       "      <td>달링</td>\n",
       "      <td>9.35</td>\n",
       "    </tr>\n",
       "    <tr>\n",
       "      <th>2499</th>\n",
       "      <td>2020-02-21</td>\n",
       "      <td>울지마 톤즈</td>\n",
       "      <td>9.34</td>\n",
       "    </tr>\n",
       "  </tbody>\n",
       "</table>\n",
       "<p>2500 rows × 3 columns</p>\n",
       "</div>"
      ],
      "text/plain": [
       "           date     title  point\n",
       "0    2020-01-03      그린 북   9.61\n",
       "1    2020-01-03      가버나움   9.59\n",
       "2    2020-01-03  포드 V 페라리   9.56\n",
       "3    2020-01-03   베일리 어게인   9.53\n",
       "4    2020-01-03       주전장   9.53\n",
       "...         ...       ...    ...\n",
       "2495 2020-02-21    굿 윌 헌팅   9.35\n",
       "2496 2020-02-21    히든 피겨스   9.35\n",
       "2497 2020-02-21     세 얼간이   9.35\n",
       "2498 2020-02-21        달링   9.35\n",
       "2499 2020-02-21    울지마 톤즈   9.34\n",
       "\n",
       "[2500 rows x 3 columns]"
      ]
     },
     "execution_count": 2,
     "metadata": {},
     "output_type": "execute_result"
    }
   ],
   "source": [
    "import pandas as pd\n",
    "\n",
    "frame = pd.DataFrame({'date': movie_date, 'title': movie_title, 'point': movie_point})\n",
    "frame"
   ]
  },
  {
   "cell_type": "markdown",
   "metadata": {},
   "source": [
    "## pivot_table() 이용하기"
   ]
  },
  {
   "cell_type": "code",
   "execution_count": 3,
   "metadata": {},
   "outputs": [
    {
     "data": {
      "text/html": [
       "<div>\n",
       "<style scoped>\n",
       "    .dataframe tbody tr th:only-of-type {\n",
       "        vertical-align: middle;\n",
       "    }\n",
       "\n",
       "    .dataframe tbody tr th {\n",
       "        vertical-align: top;\n",
       "    }\n",
       "\n",
       "    .dataframe thead th {\n",
       "        text-align: right;\n",
       "    }\n",
       "</style>\n",
       "<table border=\"1\" class=\"dataframe\">\n",
       "  <thead>\n",
       "    <tr style=\"text-align: right;\">\n",
       "      <th></th>\n",
       "      <th>point</th>\n",
       "    </tr>\n",
       "    <tr>\n",
       "      <th>title</th>\n",
       "      <th></th>\n",
       "    </tr>\n",
       "  </thead>\n",
       "  <tbody>\n",
       "    <tr>\n",
       "      <th>그린 북</th>\n",
       "      <td>9.6090</td>\n",
       "    </tr>\n",
       "    <tr>\n",
       "      <th>가버나움</th>\n",
       "      <td>9.5900</td>\n",
       "    </tr>\n",
       "    <tr>\n",
       "      <th>포드 V 페라리</th>\n",
       "      <td>9.5308</td>\n",
       "    </tr>\n",
       "    <tr>\n",
       "      <th>베일리 어게인</th>\n",
       "      <td>9.5300</td>\n",
       "    </tr>\n",
       "    <tr>\n",
       "      <th>주전장</th>\n",
       "      <td>9.5186</td>\n",
       "    </tr>\n",
       "    <tr>\n",
       "      <th>아일라</th>\n",
       "      <td>9.4914</td>\n",
       "    </tr>\n",
       "    <tr>\n",
       "      <th>원더</th>\n",
       "      <td>9.4778</td>\n",
       "    </tr>\n",
       "    <tr>\n",
       "      <th>당갈</th>\n",
       "      <td>9.4600</td>\n",
       "    </tr>\n",
       "    <tr>\n",
       "      <th>쇼생크 탈출</th>\n",
       "      <td>9.4334</td>\n",
       "    </tr>\n",
       "    <tr>\n",
       "      <th>터미네이터 2:오리지널</th>\n",
       "      <td>9.4312</td>\n",
       "    </tr>\n",
       "  </tbody>\n",
       "</table>\n",
       "</div>"
      ],
      "text/plain": [
       "               point\n",
       "title               \n",
       "그린 북          9.6090\n",
       "가버나움          9.5900\n",
       "포드 V 페라리      9.5308\n",
       "베일리 어게인       9.5300\n",
       "주전장           9.5186\n",
       "아일라           9.4914\n",
       "원더            9.4778\n",
       "당갈            9.4600\n",
       "쇼생크 탈출        9.4334\n",
       "터미네이터 2:오리지널  9.4312"
      ]
     },
     "execution_count": 3,
     "metadata": {},
     "output_type": "execute_result"
    }
   ],
   "source": [
    "import numpy as np\n",
    "\n",
    "movie_point_frame = pd.pivot_table(frame, values=['point'], index=['title'], aggfunc=np.mean)\n",
    "movie_point_frame_sort = movie_point_frame.sort_values(by='point', ascending=False)\n",
    "movie_point_frame_sort.head(10)"
   ]
  },
  {
   "cell_type": "markdown",
   "metadata": {},
   "source": [
    "## 그래프 그리기 1. 상위 10개의 영화 점수 평균 그리기"
   ]
  },
  {
   "cell_type": "code",
   "execution_count": 4,
   "metadata": {},
   "outputs": [
    {
     "data": {
      "image/png": "[encoded data removed]",
      "text/plain": [
       "<Figure size 1080x360 with 1 Axes>"
      ]
     },
     "metadata": {},
     "output_type": "display_data"
    }
   ],
   "source": [
    "import matplotlib.pyplot as plt\n",
    "\n",
    "plt.rc('font', family = 'Malgun Gothic')\n",
    "plt.rcParams['axes.unicode_minus'] = False\n",
    "plt.style.use(\"ggplot\")\n",
    "\n",
    "plt.figure(figsize=(15,5))\n",
    "plt.plot(movie_point_frame_sort[:10]['point'])\n",
    "plt.title('상위 10개 영화 평점 평균')\n",
    "plt.xlabel('제목')\n",
    "plt.ylabel('평점')\n",
    "plt.show()"
   ]
  },
  {
   "cell_type": "markdown",
   "metadata": {},
   "source": [
    "## query() 이용하기"
   ]
  },
  {
   "cell_type": "code",
   "execution_count": 5,
   "metadata": {},
   "outputs": [
    {
     "name": "stdout",
     "output_type": "stream",
     "text": [
      "쇼생크 탈출\n"
     ]
    }
   ],
   "source": [
    "input_title = input()\n",
    "search_movie = frame.query(\"title == ['{}']\".format(input_title))"
   ]
  },
  {
   "cell_type": "markdown",
   "metadata": {},
   "source": [
    "## 그래프 그리기 2. 특정 영화 평점 추이 살펴보기"
   ]
  },
  {
   "cell_type": "code",
   "execution_count": 6,
   "metadata": {},
   "outputs": [
    {
     "data": {
      "image/png": "[encoded data removed]",
      "text/plain": [
       "<Figure size 720x360 with 1 Axes>"
      ]
     },
     "metadata": {},
     "output_type": "display_data"
    }
   ],
   "source": [
    "import matplotlib.pyplot as plt\n",
    "\n",
    "plt.rc('font', family = 'Malgun Gothic')\n",
    "plt.rcParams['axes.unicode_minus'] = False\n",
    "plt.style.use(\"ggplot\")\n",
    "\n",
    "plt.figure(figsize=(10,5))\n",
    "plt.plot(search_movie['date'], search_movie['point'])\n",
    "plt.title('2020-01-03부터 {}일간 {} 평점 그래프'.format(days, input_title))\n",
    "plt.xlabel('날짜')\n",
    "plt.ylabel('평점')\n",
    "plt.show()"
   ]
  },
  {
   "cell_type": "code",
   "execution_count": null,
   "metadata": {},
   "outputs": [],
   "source": []
  }
 ],
 "metadata": {
  "kernelspec": {
   "display_name": "Python 3",
   "language": "python",
   "name": "python3"
  },
  "language_info": {
   "codemirror_mode": {
    "name": "ipython",
    "version": 3
   },
   "file_extension": ".py",
   "mimetype": "text/x-python",
   "name": "python",
   "nbconvert_exporter": "python",
   "pygments_lexer": "ipython3",
   "version": "3.8.8"
  }
 },
 "nbformat": 4,
 "nbformat_minor": 4
}
