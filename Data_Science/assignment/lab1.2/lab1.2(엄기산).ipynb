{
 "cells": [
  {
   "cell_type": "code",
   "execution_count": 1,
   "metadata": {},
   "outputs": [
    {
     "name": "stdout",
     "output_type": "stream",
     "text": [
      "{'1': 'eom', '2': ['g', 'i'], '3': 'san'}\n",
      "1: eom\n",
      "2: ['g', 'i']\n",
      "3: san\n"
     ]
    }
   ],
   "source": [
    "#201600282 엄기산\n",
    "\n",
    "key = ['1','2','3']\n",
    "value = ['eom',['g','i'],'san']\n",
    "\n",
    "dic = {}\n",
    "\n",
    "for num in range(len(key)):\n",
    "    if key[num] not in dic:\n",
    "        dic[key[num]]=value[num]\n",
    "\n",
    "print(dic)\n",
    "for kv in key:\n",
    "    print(kv+':',dic[kv])\n",
    "\n",
    "#201600282 엄기산    "
   ]
  },
  {
   "cell_type": "code",
   "execution_count": null,
   "metadata": {},
   "outputs": [],
   "source": []
  }
 ],
 "metadata": {
  "kernelspec": {
   "display_name": "Python 3",
   "language": "python",
   "name": "python3"
  },
  "language_info": {
   "codemirror_mode": {
    "name": "ipython",
    "version": 3
   },
   "file_extension": ".py",
   "mimetype": "text/x-python",
   "name": "python",
   "nbconvert_exporter": "python",
   "pygments_lexer": "ipython3",
   "version": "3.8.5"
  }
 },
 "nbformat": 4,
 "nbformat_minor": 4
}
