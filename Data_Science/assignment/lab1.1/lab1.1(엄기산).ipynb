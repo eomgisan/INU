{
 "cells": [
  {
   "cell_type": "code",
   "execution_count": 1,
   "metadata": {},
   "outputs": [
    {
     "name": "stdout",
     "output_type": "stream",
     "text": [
      "0 :엄\n",
      "1 :기\n",
      "2 :산\n",
      "3 :201\n",
      "4 :600\n",
      "5 :282\n",
      "6 :eom\n",
      "7 :gi\n",
      "8 :san\n"
     ]
    }
   ],
   "source": [
    "#201600282 엄기산\n",
    "\n",
    "list1 = ['엄','기','산']\n",
    "list2 = ['201','600','282']\n",
    "list3 = ['eom','gi','san']\n",
    "list1.append(list2[0])\n",
    "list1.append(list2[1])\n",
    "list1.append(list2[2])\n",
    "list1.append(list3[0])\n",
    "list1.append(list3[1])\n",
    "list1.append(list3[2])\n",
    "\n",
    "for num in range(len(list1)):\n",
    "    print(num,':'+list1[num])\n",
    "\n",
    "egs = open('lab1.1.txt','w')\n",
    "for i in range(len(list1)-1):\n",
    "    egs.write(list1[i]+', ')    \n",
    "egs.write(list1[8])\n",
    "egs.flush()\n",
    "egs.close()\n",
    "\n",
    "#201600282 엄기산\n"
   ]
  },
  {
   "cell_type": "code",
   "execution_count": null,
   "metadata": {},
   "outputs": [],
   "source": []
  }
 ],
 "metadata": {
  "kernelspec": {
   "display_name": "Python 3",
   "language": "python",
   "name": "python3"
  },
  "language_info": {
   "codemirror_mode": {
    "name": "ipython",
    "version": 3
   },
   "file_extension": ".py",
   "mimetype": "text/x-python",
   "name": "python",
   "nbconvert_exporter": "python",
   "pygments_lexer": "ipython3",
   "version": "3.8.5"
  }
 },
 "nbformat": 4,
 "nbformat_minor": 4
}
