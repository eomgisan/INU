{
 "cells": [
  {
   "cell_type": "markdown",
   "metadata": {},
   "source": [
    "# 딜러 팀"
   ]
  },
  {
   "cell_type": "code",
   "execution_count": 1,
   "metadata": {},
   "outputs": [],
   "source": [
    "from IPython.core.interactiveshell import InteractiveShell \n",
    "InteractiveShell.ast_node_interactivity = \"all\""
   ]
  },
  {
   "cell_type": "code",
   "execution_count": 2,
   "metadata": {},
   "outputs": [],
   "source": [
    "import torch\n",
    "import numpy as np\n",
    "import pandas as pd\n",
    "import torch.nn as nn"
   ]
  },
  {
   "cell_type": "code",
   "execution_count": 3,
   "metadata": {},
   "outputs": [
    {
     "data": {
      "text/html": [
       "<div>\n",
       "<style scoped>\n",
       "    .dataframe tbody tr th:only-of-type {\n",
       "        vertical-align: middle;\n",
       "    }\n",
       "\n",
       "    .dataframe tbody tr th {\n",
       "        vertical-align: top;\n",
       "    }\n",
       "\n",
       "    .dataframe thead th {\n",
       "        text-align: right;\n",
       "    }\n",
       "</style>\n",
       "<table border=\"1\" class=\"dataframe\">\n",
       "  <thead>\n",
       "    <tr style=\"text-align: right;\">\n",
       "      <th></th>\n",
       "      <th>Unnamed: 0</th>\n",
       "      <th>model</th>\n",
       "      <th>year</th>\n",
       "      <th>price</th>\n",
       "      <th>transmission</th>\n",
       "      <th>km</th>\n",
       "      <th>fuelType</th>\n",
       "      <th>tax</th>\n",
       "      <th>kpl</th>\n",
       "      <th>engineSize</th>\n",
       "    </tr>\n",
       "  </thead>\n",
       "  <tbody>\n",
       "    <tr>\n",
       "      <th>0</th>\n",
       "      <td>1331</td>\n",
       "      <td>I30</td>\n",
       "      <td>2019</td>\n",
       "      <td>24552572</td>\n",
       "      <td>Manual</td>\n",
       "      <td>2833</td>\n",
       "      <td>Petrol</td>\n",
       "      <td>197925</td>\n",
       "      <td>16</td>\n",
       "      <td>1.0</td>\n",
       "    </tr>\n",
       "    <tr>\n",
       "      <th>1</th>\n",
       "      <td>2071</td>\n",
       "      <td>Ioniq</td>\n",
       "      <td>2018</td>\n",
       "      <td>24566220</td>\n",
       "      <td>Automatic</td>\n",
       "      <td>25360</td>\n",
       "      <td>Hybrid</td>\n",
       "      <td>184275</td>\n",
       "      <td>27</td>\n",
       "      <td>1.6</td>\n",
       "    </tr>\n",
       "    <tr>\n",
       "      <th>2</th>\n",
       "      <td>1489</td>\n",
       "      <td>Tucson</td>\n",
       "      <td>2017</td>\n",
       "      <td>15009960</td>\n",
       "      <td>Manual</td>\n",
       "      <td>58513</td>\n",
       "      <td>Diesel</td>\n",
       "      <td>40950</td>\n",
       "      <td>21</td>\n",
       "      <td>1.7</td>\n",
       "    </tr>\n",
       "    <tr>\n",
       "      <th>3</th>\n",
       "      <td>1396</td>\n",
       "      <td>Tucson</td>\n",
       "      <td>2016</td>\n",
       "      <td>16077226</td>\n",
       "      <td>Semi-Auto</td>\n",
       "      <td>107038</td>\n",
       "      <td>Diesel</td>\n",
       "      <td>170625</td>\n",
       "      <td>20</td>\n",
       "      <td>1.7</td>\n",
       "    </tr>\n",
       "    <tr>\n",
       "      <th>4</th>\n",
       "      <td>3873</td>\n",
       "      <td>I10</td>\n",
       "      <td>2018</td>\n",
       "      <td>10904672</td>\n",
       "      <td>Manual</td>\n",
       "      <td>50200</td>\n",
       "      <td>Petrol</td>\n",
       "      <td>204750</td>\n",
       "      <td>21</td>\n",
       "      <td>1.0</td>\n",
       "    </tr>\n",
       "  </tbody>\n",
       "</table>\n",
       "</div>"
      ],
      "text/plain": [
       "   Unnamed: 0    model  year     price transmission      km fuelType     tax  \\\n",
       "0        1331      I30  2019  24552572       Manual    2833   Petrol  197925   \n",
       "1        2071    Ioniq  2018  24566220    Automatic   25360   Hybrid  184275   \n",
       "2        1489   Tucson  2017  15009960       Manual   58513   Diesel   40950   \n",
       "3        1396   Tucson  2016  16077226    Semi-Auto  107038   Diesel  170625   \n",
       "4        3873      I10  2018  10904672       Manual   50200   Petrol  204750   \n",
       "\n",
       "   kpl  engineSize  \n",
       "0   16         1.0  \n",
       "1   27         1.6  \n",
       "2   21         1.7  \n",
       "3   20         1.7  \n",
       "4   21         1.0  "
      ]
     },
     "execution_count": 3,
     "metadata": {},
     "output_type": "execute_result"
    },
    {
     "data": {
      "text/html": [
       "<div>\n",
       "<style scoped>\n",
       "    .dataframe tbody tr th:only-of-type {\n",
       "        vertical-align: middle;\n",
       "    }\n",
       "\n",
       "    .dataframe tbody tr th {\n",
       "        vertical-align: top;\n",
       "    }\n",
       "\n",
       "    .dataframe thead th {\n",
       "        text-align: right;\n",
       "    }\n",
       "</style>\n",
       "<table border=\"1\" class=\"dataframe\">\n",
       "  <thead>\n",
       "    <tr style=\"text-align: right;\">\n",
       "      <th></th>\n",
       "      <th>Unnamed: 0</th>\n",
       "      <th>model</th>\n",
       "      <th>year</th>\n",
       "      <th>price</th>\n",
       "      <th>transmission</th>\n",
       "      <th>km</th>\n",
       "      <th>fuelType</th>\n",
       "      <th>tax</th>\n",
       "      <th>kpl</th>\n",
       "      <th>engineSize</th>\n",
       "    </tr>\n",
       "  </thead>\n",
       "  <tbody>\n",
       "    <tr>\n",
       "      <th>0</th>\n",
       "      <td>3339</td>\n",
       "      <td>I10</td>\n",
       "      <td>2020</td>\n",
       "      <td>19079764</td>\n",
       "      <td>Semi-Auto</td>\n",
       "      <td>1920</td>\n",
       "      <td>Petrol</td>\n",
       "      <td>197925</td>\n",
       "      <td>18</td>\n",
       "      <td>1.2</td>\n",
       "    </tr>\n",
       "    <tr>\n",
       "      <th>1</th>\n",
       "      <td>1152</td>\n",
       "      <td>Tucson</td>\n",
       "      <td>2018</td>\n",
       "      <td>22901176</td>\n",
       "      <td>Semi-Auto</td>\n",
       "      <td>53648</td>\n",
       "      <td>Petrol</td>\n",
       "      <td>197925</td>\n",
       "      <td>14</td>\n",
       "      <td>1.6</td>\n",
       "    </tr>\n",
       "    <tr>\n",
       "      <th>2</th>\n",
       "      <td>68</td>\n",
       "      <td>I10</td>\n",
       "      <td>2014</td>\n",
       "      <td>7506345</td>\n",
       "      <td>Manual</td>\n",
       "      <td>32203</td>\n",
       "      <td>Petrol</td>\n",
       "      <td>27300</td>\n",
       "      <td>21</td>\n",
       "      <td>1.0</td>\n",
       "    </tr>\n",
       "    <tr>\n",
       "      <th>3</th>\n",
       "      <td>2914</td>\n",
       "      <td>Tucson</td>\n",
       "      <td>2018</td>\n",
       "      <td>19100236</td>\n",
       "      <td>Manual</td>\n",
       "      <td>40472</td>\n",
       "      <td>Petrol</td>\n",
       "      <td>197925</td>\n",
       "      <td>15</td>\n",
       "      <td>1.6</td>\n",
       "    </tr>\n",
       "    <tr>\n",
       "      <th>4</th>\n",
       "      <td>1667</td>\n",
       "      <td>Santa Fe</td>\n",
       "      <td>2020</td>\n",
       "      <td>50483582</td>\n",
       "      <td>Semi-Auto</td>\n",
       "      <td>1576</td>\n",
       "      <td>Diesel</td>\n",
       "      <td>204750</td>\n",
       "      <td>13</td>\n",
       "      <td>2.2</td>\n",
       "    </tr>\n",
       "  </tbody>\n",
       "</table>\n",
       "</div>"
      ],
      "text/plain": [
       "   Unnamed: 0      model  year     price transmission     km fuelType     tax  \\\n",
       "0        3339        I10  2020  19079764    Semi-Auto   1920   Petrol  197925   \n",
       "1        1152     Tucson  2018  22901176    Semi-Auto  53648   Petrol  197925   \n",
       "2          68        I10  2014   7506345       Manual  32203   Petrol   27300   \n",
       "3        2914     Tucson  2018  19100236       Manual  40472   Petrol  197925   \n",
       "4        1667   Santa Fe  2020  50483582    Semi-Auto   1576   Diesel  204750   \n",
       "\n",
       "   kpl  engineSize  \n",
       "0   18         1.2  \n",
       "1   14         1.6  \n",
       "2   21         1.0  \n",
       "3   15         1.6  \n",
       "4   13         2.2  "
      ]
     },
     "execution_count": 3,
     "metadata": {},
     "output_type": "execute_result"
    }
   ],
   "source": [
    "train = pd.read_csv('./hyundai_train.csv')\n",
    "test = pd.read_csv('./hyundai_test.csv')\n",
    "\n",
    "train.head()\n",
    "test.head()"
   ]
  },
  {
   "cell_type": "markdown",
   "metadata": {},
   "source": [
    "여기서 불필요한 열 제거\n",
    "맨 앞 열은 train test셋을 나누기 이전의 index들 이므로 제거\n",
    "tax또한 가격측정에 불필요하다고 생각되어 제거하였다."
   ]
  },
  {
   "cell_type": "code",
   "execution_count": 4,
   "metadata": {},
   "outputs": [],
   "source": [
    "train.drop(columns=['tax'], inplace=True)\n",
    "test.drop(columns=['tax'], inplace=True)\n",
    "train.drop(columns=['Unnamed: 0'], inplace=True)\n",
    "test.drop(columns=['Unnamed: 0'], inplace=True)"
   ]
  },
  {
   "cell_type": "code",
   "execution_count": 5,
   "metadata": {},
   "outputs": [
    {
     "data": {
      "text/html": [
       "<div>\n",
       "<style scoped>\n",
       "    .dataframe tbody tr th:only-of-type {\n",
       "        vertical-align: middle;\n",
       "    }\n",
       "\n",
       "    .dataframe tbody tr th {\n",
       "        vertical-align: top;\n",
       "    }\n",
       "\n",
       "    .dataframe thead th {\n",
       "        text-align: right;\n",
       "    }\n",
       "</style>\n",
       "<table border=\"1\" class=\"dataframe\">\n",
       "  <thead>\n",
       "    <tr style=\"text-align: right;\">\n",
       "      <th></th>\n",
       "      <th>model</th>\n",
       "      <th>year</th>\n",
       "      <th>price</th>\n",
       "      <th>transmission</th>\n",
       "      <th>km</th>\n",
       "      <th>fuelType</th>\n",
       "      <th>kpl</th>\n",
       "      <th>engineSize</th>\n",
       "    </tr>\n",
       "  </thead>\n",
       "  <tbody>\n",
       "    <tr>\n",
       "      <th>0</th>\n",
       "      <td>I30</td>\n",
       "      <td>2019</td>\n",
       "      <td>24552572</td>\n",
       "      <td>Manual</td>\n",
       "      <td>2833</td>\n",
       "      <td>Petrol</td>\n",
       "      <td>16</td>\n",
       "      <td>1.0</td>\n",
       "    </tr>\n",
       "    <tr>\n",
       "      <th>1</th>\n",
       "      <td>Ioniq</td>\n",
       "      <td>2018</td>\n",
       "      <td>24566220</td>\n",
       "      <td>Automatic</td>\n",
       "      <td>25360</td>\n",
       "      <td>Hybrid</td>\n",
       "      <td>27</td>\n",
       "      <td>1.6</td>\n",
       "    </tr>\n",
       "    <tr>\n",
       "      <th>2</th>\n",
       "      <td>Tucson</td>\n",
       "      <td>2017</td>\n",
       "      <td>15009960</td>\n",
       "      <td>Manual</td>\n",
       "      <td>58513</td>\n",
       "      <td>Diesel</td>\n",
       "      <td>21</td>\n",
       "      <td>1.7</td>\n",
       "    </tr>\n",
       "    <tr>\n",
       "      <th>3</th>\n",
       "      <td>Tucson</td>\n",
       "      <td>2016</td>\n",
       "      <td>16077226</td>\n",
       "      <td>Semi-Auto</td>\n",
       "      <td>107038</td>\n",
       "      <td>Diesel</td>\n",
       "      <td>20</td>\n",
       "      <td>1.7</td>\n",
       "    </tr>\n",
       "    <tr>\n",
       "      <th>4</th>\n",
       "      <td>I10</td>\n",
       "      <td>2018</td>\n",
       "      <td>10904672</td>\n",
       "      <td>Manual</td>\n",
       "      <td>50200</td>\n",
       "      <td>Petrol</td>\n",
       "      <td>21</td>\n",
       "      <td>1.0</td>\n",
       "    </tr>\n",
       "  </tbody>\n",
       "</table>\n",
       "</div>"
      ],
      "text/plain": [
       "     model  year     price transmission      km fuelType  kpl  engineSize\n",
       "0      I30  2019  24552572       Manual    2833   Petrol   16         1.0\n",
       "1    Ioniq  2018  24566220    Automatic   25360   Hybrid   27         1.6\n",
       "2   Tucson  2017  15009960       Manual   58513   Diesel   21         1.7\n",
       "3   Tucson  2016  16077226    Semi-Auto  107038   Diesel   20         1.7\n",
       "4      I10  2018  10904672       Manual   50200   Petrol   21         1.0"
      ]
     },
     "execution_count": 5,
     "metadata": {},
     "output_type": "execute_result"
    },
    {
     "data": {
      "text/html": [
       "<div>\n",
       "<style scoped>\n",
       "    .dataframe tbody tr th:only-of-type {\n",
       "        vertical-align: middle;\n",
       "    }\n",
       "\n",
       "    .dataframe tbody tr th {\n",
       "        vertical-align: top;\n",
       "    }\n",
       "\n",
       "    .dataframe thead th {\n",
       "        text-align: right;\n",
       "    }\n",
       "</style>\n",
       "<table border=\"1\" class=\"dataframe\">\n",
       "  <thead>\n",
       "    <tr style=\"text-align: right;\">\n",
       "      <th></th>\n",
       "      <th>model</th>\n",
       "      <th>year</th>\n",
       "      <th>price</th>\n",
       "      <th>transmission</th>\n",
       "      <th>km</th>\n",
       "      <th>fuelType</th>\n",
       "      <th>kpl</th>\n",
       "      <th>engineSize</th>\n",
       "    </tr>\n",
       "  </thead>\n",
       "  <tbody>\n",
       "    <tr>\n",
       "      <th>0</th>\n",
       "      <td>I10</td>\n",
       "      <td>2020</td>\n",
       "      <td>19079764</td>\n",
       "      <td>Semi-Auto</td>\n",
       "      <td>1920</td>\n",
       "      <td>Petrol</td>\n",
       "      <td>18</td>\n",
       "      <td>1.2</td>\n",
       "    </tr>\n",
       "    <tr>\n",
       "      <th>1</th>\n",
       "      <td>Tucson</td>\n",
       "      <td>2018</td>\n",
       "      <td>22901176</td>\n",
       "      <td>Semi-Auto</td>\n",
       "      <td>53648</td>\n",
       "      <td>Petrol</td>\n",
       "      <td>14</td>\n",
       "      <td>1.6</td>\n",
       "    </tr>\n",
       "    <tr>\n",
       "      <th>2</th>\n",
       "      <td>I10</td>\n",
       "      <td>2014</td>\n",
       "      <td>7506345</td>\n",
       "      <td>Manual</td>\n",
       "      <td>32203</td>\n",
       "      <td>Petrol</td>\n",
       "      <td>21</td>\n",
       "      <td>1.0</td>\n",
       "    </tr>\n",
       "    <tr>\n",
       "      <th>3</th>\n",
       "      <td>Tucson</td>\n",
       "      <td>2018</td>\n",
       "      <td>19100236</td>\n",
       "      <td>Manual</td>\n",
       "      <td>40472</td>\n",
       "      <td>Petrol</td>\n",
       "      <td>15</td>\n",
       "      <td>1.6</td>\n",
       "    </tr>\n",
       "    <tr>\n",
       "      <th>4</th>\n",
       "      <td>Santa Fe</td>\n",
       "      <td>2020</td>\n",
       "      <td>50483582</td>\n",
       "      <td>Semi-Auto</td>\n",
       "      <td>1576</td>\n",
       "      <td>Diesel</td>\n",
       "      <td>13</td>\n",
       "      <td>2.2</td>\n",
       "    </tr>\n",
       "  </tbody>\n",
       "</table>\n",
       "</div>"
      ],
      "text/plain": [
       "       model  year     price transmission     km fuelType  kpl  engineSize\n",
       "0        I10  2020  19079764    Semi-Auto   1920   Petrol   18         1.2\n",
       "1     Tucson  2018  22901176    Semi-Auto  53648   Petrol   14         1.6\n",
       "2        I10  2014   7506345       Manual  32203   Petrol   21         1.0\n",
       "3     Tucson  2018  19100236       Manual  40472   Petrol   15         1.6\n",
       "4   Santa Fe  2020  50483582    Semi-Auto   1576   Diesel   13         2.2"
      ]
     },
     "execution_count": 5,
     "metadata": {},
     "output_type": "execute_result"
    }
   ],
   "source": [
    "train.head()\n",
    "test.head()"
   ]
  },
  {
   "cell_type": "code",
   "execution_count": 6,
   "metadata": {},
   "outputs": [
    {
     "name": "stdout",
     "output_type": "stream",
     "text": [
      "<class 'pandas.core.frame.DataFrame'>\n",
      "RangeIndex: 3888 entries, 0 to 3887\n",
      "Data columns (total 8 columns):\n",
      " #   Column        Non-Null Count  Dtype  \n",
      "---  ------        --------------  -----  \n",
      " 0   model         3888 non-null   object \n",
      " 1   year          3888 non-null   int64  \n",
      " 2   price         3888 non-null   int64  \n",
      " 3   transmission  3888 non-null   object \n",
      " 4   km            3888 non-null   int64  \n",
      " 5   fuelType      3888 non-null   object \n",
      " 6   kpl           3888 non-null   int64  \n",
      " 7   engineSize    3888 non-null   float64\n",
      "dtypes: float64(1), int64(4), object(3)\n",
      "memory usage: 243.1+ KB\n"
     ]
    }
   ],
   "source": [
    "train.info()"
   ]
  },
  {
   "cell_type": "code",
   "execution_count": 7,
   "metadata": {},
   "outputs": [
    {
     "name": "stdout",
     "output_type": "stream",
     "text": [
      "<class 'pandas.core.frame.DataFrame'>\n",
      "RangeIndex: 972 entries, 0 to 971\n",
      "Data columns (total 8 columns):\n",
      " #   Column        Non-Null Count  Dtype  \n",
      "---  ------        --------------  -----  \n",
      " 0   model         972 non-null    object \n",
      " 1   year          972 non-null    int64  \n",
      " 2   price         972 non-null    int64  \n",
      " 3   transmission  972 non-null    object \n",
      " 4   km            972 non-null    int64  \n",
      " 5   fuelType      972 non-null    object \n",
      " 6   kpl           972 non-null    int64  \n",
      " 7   engineSize    972 non-null    float64\n",
      "dtypes: float64(1), int64(4), object(3)\n",
      "memory usage: 60.9+ KB\n"
     ]
    }
   ],
   "source": [
    "test.info()"
   ]
  },
  {
   "cell_type": "markdown",
   "metadata": {},
   "source": [
    "각 데이터셋들을 확인해본 결과 모델, transmission, fuelType등이 object형식이므로 이를 바꿔줘야한다."
   ]
  },
  {
   "cell_type": "code",
   "execution_count": 8,
   "metadata": {},
   "outputs": [
    {
     "data": {
      "text/plain": [
       "array([' I30', ' Ioniq', ' Tucson', ' I10', ' IX20', ' Kona', ' IX35',\n",
       "       ' Accent', ' I20', ' Santa Fe', ' I800', ' I40', ' Terracan',\n",
       "       ' Getz', ' Veloster', ' Amica'], dtype=object)"
      ]
     },
     "execution_count": 8,
     "metadata": {},
     "output_type": "execute_result"
    },
    {
     "data": {
      "text/plain": [
       "array(['Manual', 'Automatic', 'Semi-Auto', 'Other'], dtype=object)"
      ]
     },
     "execution_count": 8,
     "metadata": {},
     "output_type": "execute_result"
    },
    {
     "data": {
      "text/plain": [
       "array(['Petrol', 'Hybrid', 'Diesel', 'Other'], dtype=object)"
      ]
     },
     "execution_count": 8,
     "metadata": {},
     "output_type": "execute_result"
    }
   ],
   "source": [
    "train['model'].unique()\n",
    "train['transmission'].unique()\n",
    "train['fuelType'].unique()"
   ]
  },
  {
   "cell_type": "code",
   "execution_count": 9,
   "metadata": {},
   "outputs": [
    {
     "data": {
      "text/plain": [
       "60043936"
      ]
     },
     "execution_count": 9,
     "metadata": {},
     "output_type": "execute_result"
    },
    {
     "data": {
      "text/plain": [
       "125560680"
      ]
     },
     "execution_count": 9,
     "metadata": {},
     "output_type": "execute_result"
    }
   ],
   "source": [
    "train['price'].max()\n",
    "test['price'].max()"
   ]
  },
  {
   "cell_type": "markdown",
   "metadata": {},
   "source": [
    "각 열을 확인해본 결과 특정 값들로만 이루어져 있으므로 mapping을 통해 문자열이 아닌 숫자들로 변환을 해준다.\n",
    "\n",
    "또한 price의 값을 예측하고싶은데 예측 범위가 너무 커 nn 모델의 output노드의 갯수가 1억개를 넘게 된다. 그러므로 천만원 단위로 나누는 과정을 수행하여 가격예측을 천만원단위로 수행한다."
   ]
  },
  {
   "cell_type": "code",
   "execution_count": 10,
   "metadata": {},
   "outputs": [],
   "source": [
    "model_mapping = {\" I30\": 1, \" Ioniq\": 2, \" Tucson\": 3, \" I10\": 4, \" IX20\": 5, \" Kona\": 6, \" IX35\": 7, \n",
    "                 \" Accent\": 8, \" I20\": 9, \" Santa Fe\": 10, \" I800\": 11, \" I40\": 12, \" Terracan\": 13, \n",
    "                 \" Getz\": 14, \" Veloster\": 15, \" Amica\": 16}\n",
    "trans_mapping = {\"Manual\": 1, \"Automatic\": 2, \"Semi-Auto\": 3, \"Other\": 4}\n",
    "fuelT_mapping = {\"Petrol\": 1, \"Hybrid\": 2, \"Diesel\": 3, \"Other\": 4}\n",
    "\n",
    "train_test_data= [train, test] \n",
    "\n",
    "for dataset in train_test_data:\n",
    "    dataset['model'] = dataset['model'].map(model_mapping)\n",
    "    dataset['transmission'] = dataset['transmission'].map(trans_mapping)\n",
    "    dataset['fuelType'] = dataset['fuelType'].map(fuelT_mapping)\n",
    "    dataset['price'] = dataset['price']//10000000"
   ]
  },
  {
   "cell_type": "code",
   "execution_count": 11,
   "metadata": {},
   "outputs": [
    {
     "data": {
      "text/plain": [
       "6"
      ]
     },
     "execution_count": 11,
     "metadata": {},
     "output_type": "execute_result"
    },
    {
     "data": {
      "text/plain": [
       "12"
      ]
     },
     "execution_count": 11,
     "metadata": {},
     "output_type": "execute_result"
    }
   ],
   "source": [
    "train['price'].max()\n",
    "test['price'].max()"
   ]
  },
  {
   "cell_type": "markdown",
   "metadata": {},
   "source": [
    "이제 train데이터 셋과 test 데이터 셋에서 target을 분류해준다."
   ]
  },
  {
   "cell_type": "code",
   "execution_count": 12,
   "metadata": {},
   "outputs": [
    {
     "data": {
      "text/plain": [
       "0    2\n",
       "1    2\n",
       "2    1\n",
       "3    1\n",
       "4    1\n",
       "Name: price, dtype: int64"
      ]
     },
     "execution_count": 12,
     "metadata": {},
     "output_type": "execute_result"
    },
    {
     "data": {
      "text/plain": [
       "0    1\n",
       "1    2\n",
       "2    0\n",
       "3    1\n",
       "4    5\n",
       "Name: price, dtype: int64"
      ]
     },
     "execution_count": 12,
     "metadata": {},
     "output_type": "execute_result"
    }
   ],
   "source": [
    "train_label = train['price']\n",
    "train_label.head()\n",
    "test_label = test['price']\n",
    "test_label.head()"
   ]
  },
  {
   "cell_type": "markdown",
   "metadata": {},
   "source": [
    "train 에는 price가 없어야 하므로 price 열 제거"
   ]
  },
  {
   "cell_type": "code",
   "execution_count": 13,
   "metadata": {},
   "outputs": [
    {
     "data": {
      "text/html": [
       "<div>\n",
       "<style scoped>\n",
       "    .dataframe tbody tr th:only-of-type {\n",
       "        vertical-align: middle;\n",
       "    }\n",
       "\n",
       "    .dataframe tbody tr th {\n",
       "        vertical-align: top;\n",
       "    }\n",
       "\n",
       "    .dataframe thead th {\n",
       "        text-align: right;\n",
       "    }\n",
       "</style>\n",
       "<table border=\"1\" class=\"dataframe\">\n",
       "  <thead>\n",
       "    <tr style=\"text-align: right;\">\n",
       "      <th></th>\n",
       "      <th>model</th>\n",
       "      <th>year</th>\n",
       "      <th>transmission</th>\n",
       "      <th>km</th>\n",
       "      <th>fuelType</th>\n",
       "      <th>kpl</th>\n",
       "      <th>engineSize</th>\n",
       "    </tr>\n",
       "  </thead>\n",
       "  <tbody>\n",
       "    <tr>\n",
       "      <th>0</th>\n",
       "      <td>1</td>\n",
       "      <td>2019</td>\n",
       "      <td>1</td>\n",
       "      <td>2833</td>\n",
       "      <td>1</td>\n",
       "      <td>16</td>\n",
       "      <td>1.0</td>\n",
       "    </tr>\n",
       "    <tr>\n",
       "      <th>1</th>\n",
       "      <td>2</td>\n",
       "      <td>2018</td>\n",
       "      <td>2</td>\n",
       "      <td>25360</td>\n",
       "      <td>2</td>\n",
       "      <td>27</td>\n",
       "      <td>1.6</td>\n",
       "    </tr>\n",
       "    <tr>\n",
       "      <th>2</th>\n",
       "      <td>3</td>\n",
       "      <td>2017</td>\n",
       "      <td>1</td>\n",
       "      <td>58513</td>\n",
       "      <td>3</td>\n",
       "      <td>21</td>\n",
       "      <td>1.7</td>\n",
       "    </tr>\n",
       "    <tr>\n",
       "      <th>3</th>\n",
       "      <td>3</td>\n",
       "      <td>2016</td>\n",
       "      <td>3</td>\n",
       "      <td>107038</td>\n",
       "      <td>3</td>\n",
       "      <td>20</td>\n",
       "      <td>1.7</td>\n",
       "    </tr>\n",
       "    <tr>\n",
       "      <th>4</th>\n",
       "      <td>4</td>\n",
       "      <td>2018</td>\n",
       "      <td>1</td>\n",
       "      <td>50200</td>\n",
       "      <td>1</td>\n",
       "      <td>21</td>\n",
       "      <td>1.0</td>\n",
       "    </tr>\n",
       "    <tr>\n",
       "      <th>...</th>\n",
       "      <td>...</td>\n",
       "      <td>...</td>\n",
       "      <td>...</td>\n",
       "      <td>...</td>\n",
       "      <td>...</td>\n",
       "      <td>...</td>\n",
       "      <td>...</td>\n",
       "    </tr>\n",
       "    <tr>\n",
       "      <th>3883</th>\n",
       "      <td>3</td>\n",
       "      <td>2017</td>\n",
       "      <td>1</td>\n",
       "      <td>45598</td>\n",
       "      <td>3</td>\n",
       "      <td>21</td>\n",
       "      <td>1.7</td>\n",
       "    </tr>\n",
       "    <tr>\n",
       "      <th>3884</th>\n",
       "      <td>3</td>\n",
       "      <td>2016</td>\n",
       "      <td>1</td>\n",
       "      <td>57747</td>\n",
       "      <td>1</td>\n",
       "      <td>15</td>\n",
       "      <td>1.6</td>\n",
       "    </tr>\n",
       "    <tr>\n",
       "      <th>3885</th>\n",
       "      <td>3</td>\n",
       "      <td>2016</td>\n",
       "      <td>1</td>\n",
       "      <td>46747</td>\n",
       "      <td>3</td>\n",
       "      <td>16</td>\n",
       "      <td>2.0</td>\n",
       "    </tr>\n",
       "    <tr>\n",
       "      <th>3886</th>\n",
       "      <td>3</td>\n",
       "      <td>2017</td>\n",
       "      <td>1</td>\n",
       "      <td>43956</td>\n",
       "      <td>3</td>\n",
       "      <td>21</td>\n",
       "      <td>1.7</td>\n",
       "    </tr>\n",
       "    <tr>\n",
       "      <th>3887</th>\n",
       "      <td>4</td>\n",
       "      <td>2019</td>\n",
       "      <td>1</td>\n",
       "      <td>8971</td>\n",
       "      <td>1</td>\n",
       "      <td>20</td>\n",
       "      <td>1.2</td>\n",
       "    </tr>\n",
       "  </tbody>\n",
       "</table>\n",
       "<p>3888 rows × 7 columns</p>\n",
       "</div>"
      ],
      "text/plain": [
       "      model  year  transmission      km  fuelType  kpl  engineSize\n",
       "0         1  2019             1    2833         1   16         1.0\n",
       "1         2  2018             2   25360         2   27         1.6\n",
       "2         3  2017             1   58513         3   21         1.7\n",
       "3         3  2016             3  107038         3   20         1.7\n",
       "4         4  2018             1   50200         1   21         1.0\n",
       "...     ...   ...           ...     ...       ...  ...         ...\n",
       "3883      3  2017             1   45598         3   21         1.7\n",
       "3884      3  2016             1   57747         1   15         1.6\n",
       "3885      3  2016             1   46747         3   16         2.0\n",
       "3886      3  2017             1   43956         3   21         1.7\n",
       "3887      4  2019             1    8971         1   20         1.2\n",
       "\n",
       "[3888 rows x 7 columns]"
      ]
     },
     "execution_count": 13,
     "metadata": {},
     "output_type": "execute_result"
    },
    {
     "data": {
      "text/html": [
       "<div>\n",
       "<style scoped>\n",
       "    .dataframe tbody tr th:only-of-type {\n",
       "        vertical-align: middle;\n",
       "    }\n",
       "\n",
       "    .dataframe tbody tr th {\n",
       "        vertical-align: top;\n",
       "    }\n",
       "\n",
       "    .dataframe thead th {\n",
       "        text-align: right;\n",
       "    }\n",
       "</style>\n",
       "<table border=\"1\" class=\"dataframe\">\n",
       "  <thead>\n",
       "    <tr style=\"text-align: right;\">\n",
       "      <th></th>\n",
       "      <th>model</th>\n",
       "      <th>year</th>\n",
       "      <th>transmission</th>\n",
       "      <th>km</th>\n",
       "      <th>fuelType</th>\n",
       "      <th>kpl</th>\n",
       "      <th>engineSize</th>\n",
       "    </tr>\n",
       "  </thead>\n",
       "  <tbody>\n",
       "    <tr>\n",
       "      <th>0</th>\n",
       "      <td>4</td>\n",
       "      <td>2020</td>\n",
       "      <td>3</td>\n",
       "      <td>1920</td>\n",
       "      <td>1</td>\n",
       "      <td>18</td>\n",
       "      <td>1.2</td>\n",
       "    </tr>\n",
       "    <tr>\n",
       "      <th>1</th>\n",
       "      <td>3</td>\n",
       "      <td>2018</td>\n",
       "      <td>3</td>\n",
       "      <td>53648</td>\n",
       "      <td>1</td>\n",
       "      <td>14</td>\n",
       "      <td>1.6</td>\n",
       "    </tr>\n",
       "    <tr>\n",
       "      <th>2</th>\n",
       "      <td>4</td>\n",
       "      <td>2014</td>\n",
       "      <td>1</td>\n",
       "      <td>32203</td>\n",
       "      <td>1</td>\n",
       "      <td>21</td>\n",
       "      <td>1.0</td>\n",
       "    </tr>\n",
       "    <tr>\n",
       "      <th>3</th>\n",
       "      <td>3</td>\n",
       "      <td>2018</td>\n",
       "      <td>1</td>\n",
       "      <td>40472</td>\n",
       "      <td>1</td>\n",
       "      <td>15</td>\n",
       "      <td>1.6</td>\n",
       "    </tr>\n",
       "    <tr>\n",
       "      <th>4</th>\n",
       "      <td>10</td>\n",
       "      <td>2020</td>\n",
       "      <td>3</td>\n",
       "      <td>1576</td>\n",
       "      <td>3</td>\n",
       "      <td>13</td>\n",
       "      <td>2.2</td>\n",
       "    </tr>\n",
       "    <tr>\n",
       "      <th>...</th>\n",
       "      <td>...</td>\n",
       "      <td>...</td>\n",
       "      <td>...</td>\n",
       "      <td>...</td>\n",
       "      <td>...</td>\n",
       "      <td>...</td>\n",
       "      <td>...</td>\n",
       "    </tr>\n",
       "    <tr>\n",
       "      <th>967</th>\n",
       "      <td>3</td>\n",
       "      <td>2017</td>\n",
       "      <td>1</td>\n",
       "      <td>31040</td>\n",
       "      <td>3</td>\n",
       "      <td>21</td>\n",
       "      <td>1.7</td>\n",
       "    </tr>\n",
       "    <tr>\n",
       "      <th>968</th>\n",
       "      <td>9</td>\n",
       "      <td>2016</td>\n",
       "      <td>1</td>\n",
       "      <td>48264</td>\n",
       "      <td>1</td>\n",
       "      <td>19</td>\n",
       "      <td>1.2</td>\n",
       "    </tr>\n",
       "    <tr>\n",
       "      <th>969</th>\n",
       "      <td>3</td>\n",
       "      <td>2018</td>\n",
       "      <td>1</td>\n",
       "      <td>29476</td>\n",
       "      <td>1</td>\n",
       "      <td>12</td>\n",
       "      <td>1.6</td>\n",
       "    </tr>\n",
       "    <tr>\n",
       "      <th>970</th>\n",
       "      <td>1</td>\n",
       "      <td>2018</td>\n",
       "      <td>1</td>\n",
       "      <td>26451</td>\n",
       "      <td>1</td>\n",
       "      <td>20</td>\n",
       "      <td>1.0</td>\n",
       "    </tr>\n",
       "    <tr>\n",
       "      <th>971</th>\n",
       "      <td>3</td>\n",
       "      <td>2017</td>\n",
       "      <td>3</td>\n",
       "      <td>58465</td>\n",
       "      <td>3</td>\n",
       "      <td>20</td>\n",
       "      <td>1.7</td>\n",
       "    </tr>\n",
       "  </tbody>\n",
       "</table>\n",
       "<p>972 rows × 7 columns</p>\n",
       "</div>"
      ],
      "text/plain": [
       "     model  year  transmission     km  fuelType  kpl  engineSize\n",
       "0        4  2020             3   1920         1   18         1.2\n",
       "1        3  2018             3  53648         1   14         1.6\n",
       "2        4  2014             1  32203         1   21         1.0\n",
       "3        3  2018             1  40472         1   15         1.6\n",
       "4       10  2020             3   1576         3   13         2.2\n",
       "..     ...   ...           ...    ...       ...  ...         ...\n",
       "967      3  2017             1  31040         3   21         1.7\n",
       "968      9  2016             1  48264         1   19         1.2\n",
       "969      3  2018             1  29476         1   12         1.6\n",
       "970      1  2018             1  26451         1   20         1.0\n",
       "971      3  2017             3  58465         3   20         1.7\n",
       "\n",
       "[972 rows x 7 columns]"
      ]
     },
     "execution_count": 13,
     "metadata": {},
     "output_type": "execute_result"
    }
   ],
   "source": [
    "train.drop(columns=['price'], inplace=True)\n",
    "train\n",
    "test.drop(columns=['price'], inplace=True)\n",
    "test"
   ]
  },
  {
   "cell_type": "markdown",
   "metadata": {},
   "source": [
    "input으로는 총 7가지의 값들이 들어오니 input size 7\n",
    "price의 최대값이 12 이므로 총 13가지의 경우의 수가 나온다. 그러므로 num_classes 즉 아웃풋의 결과는 13"
   ]
  },
  {
   "cell_type": "code",
   "execution_count": 14,
   "metadata": {},
   "outputs": [],
   "source": [
    "input_size = 7\n",
    "hidden_size = 100\n",
    "num_classes = 13\n",
    "num_epochs = 100\n",
    "learning_rate = 0.001"
   ]
  },
  {
   "cell_type": "code",
   "execution_count": 15,
   "metadata": {},
   "outputs": [],
   "source": [
    "class NeuralNet(nn.Module): \n",
    "    \n",
    "    def __init__(self, input_size, hidden_size, num_classes):\n",
    "        super(NeuralNet, self).__init__()\n",
    "        self.fc1 = nn.Linear(input_size, hidden_size)\n",
    "        self.relu = nn.ReLU()\n",
    "        self.fc2 = nn.Linear(hidden_size, num_classes)\n",
    "\n",
    "    # 모델의 Forward Path를 정의\n",
    "    def forward(self, x):\n",
    "        out = self.fc1(x)\n",
    "        out = self.relu(out)\n",
    "        out = self.fc2(out)\n",
    "    \n",
    "        return out"
   ]
  },
  {
   "cell_type": "code",
   "execution_count": 16,
   "metadata": {},
   "outputs": [],
   "source": [
    "X_train = torch.FloatTensor(train.values)\n",
    "y_train = torch.LongTensor(train_label.values)\n",
    "X_test = torch.FloatTensor(test.values)\n",
    "y_test = torch.LongTensor(test_label.values)"
   ]
  },
  {
   "cell_type": "code",
   "execution_count": 17,
   "metadata": {},
   "outputs": [
    {
     "data": {
      "text/plain": [
       "tensor([[1.0000e+00, 2.0190e+03, 1.0000e+00,  ..., 1.0000e+00, 1.6000e+01,\n",
       "         1.0000e+00],\n",
       "        [2.0000e+00, 2.0180e+03, 2.0000e+00,  ..., 2.0000e+00, 2.7000e+01,\n",
       "         1.6000e+00],\n",
       "        [3.0000e+00, 2.0170e+03, 1.0000e+00,  ..., 3.0000e+00, 2.1000e+01,\n",
       "         1.7000e+00],\n",
       "        ...,\n",
       "        [3.0000e+00, 2.0160e+03, 1.0000e+00,  ..., 3.0000e+00, 1.6000e+01,\n",
       "         2.0000e+00],\n",
       "        [3.0000e+00, 2.0170e+03, 1.0000e+00,  ..., 3.0000e+00, 2.1000e+01,\n",
       "         1.7000e+00],\n",
       "        [4.0000e+00, 2.0190e+03, 1.0000e+00,  ..., 1.0000e+00, 2.0000e+01,\n",
       "         1.2000e+00]])"
      ]
     },
     "execution_count": 17,
     "metadata": {},
     "output_type": "execute_result"
    },
    {
     "data": {
      "text/plain": [
       "tensor([2, 2, 1,  ..., 2, 1, 1])"
      ]
     },
     "execution_count": 17,
     "metadata": {},
     "output_type": "execute_result"
    }
   ],
   "source": [
    "X_train\n",
    "y_train"
   ]
  },
  {
   "cell_type": "code",
   "execution_count": 18,
   "metadata": {},
   "outputs": [
    {
     "name": "stdout",
     "output_type": "stream",
     "text": [
      "Epoch : [10/100], Loss : 679.4996\n",
      "Epoch : [20/100], Loss : 349.3359\n",
      "Epoch : [30/100], Loss : 116.6691\n",
      "Epoch : [40/100], Loss : 94.7312\n",
      "Epoch : [50/100], Loss : 102.1063\n",
      "Epoch : [60/100], Loss : 51.3146\n",
      "Epoch : [70/100], Loss : 73.7595\n",
      "Epoch : [80/100], Loss : 38.7705\n",
      "Epoch : [90/100], Loss : 24.6193\n",
      "Epoch : [100/100], Loss : 27.8777\n"
     ]
    }
   ],
   "source": [
    "model = NeuralNet(input_size, hidden_size, num_classes)\n",
    "\n",
    "loss_function = nn.CrossEntropyLoss() \n",
    "optimizer = torch.optim.Adam(model.parameters(), lr=learning_rate)\n",
    "\n",
    "loss_list = []\n",
    "\n",
    "for epoch in range(num_epochs):\n",
    "\n",
    "    pred = model(X_train)\n",
    "    loss = loss_function(pred, y_train)\n",
    "    \n",
    "    loss_list.append(loss.item())\n",
    "\n",
    "    optimizer.zero_grad()\n",
    "    loss.backward()\n",
    "\n",
    "    optimizer.step()\n",
    "    \n",
    "    if (epoch + 1) % 10 == 0:\n",
    "        print(f\"Epoch : [{epoch + 1}/{num_epochs}], Loss : {loss.item():.4f}\")"
   ]
  },
  {
   "cell_type": "code",
   "execution_count": 19,
   "metadata": {},
   "outputs": [
    {
     "name": "stdout",
     "output_type": "stream",
     "text": [
      "Accuracy of the Network on the Test Images : 51.02880658436214%\n"
     ]
    }
   ],
   "source": [
    "with torch.no_grad():\n",
    "    correct = 0\n",
    "    total = 0\n",
    "\n",
    "    for features, labels in zip(X_test, y_test):\n",
    "        outputs = model(features)\n",
    "        total += 1\n",
    "        correct += (torch.argmax(outputs) == labels).sum().item()\n",
    "    print(f\"Accuracy of the Network on the Test Images : {100*correct/total}%\")"
   ]
  },
  {
   "cell_type": "markdown",
   "metadata": {},
   "source": [
    "여러가지 hidden node의 갯수와 learning_rate를 확인해 본 결과 learning_rate가 여기서 더 작아지면 30퍼센트정도로 정확도가 많이 낮아지고 hideen node의 갯수의 변화에 따라 정확도는 크게 달라지는것을 확인 못하였다.\n",
    "\n",
    "우리가 여러번의 수행결과 지금의 결과가 최고수치였다."
   ]
  }
 ],
 "metadata": {
  "kernelspec": {
   "display_name": "Python 3",
   "language": "python",
   "name": "python3"
  },
  "language_info": {
   "codemirror_mode": {
    "name": "ipython",
    "version": 3
   },
   "file_extension": ".py",
   "mimetype": "text/x-python",
   "name": "python",
   "nbconvert_exporter": "python",
   "pygments_lexer": "ipython3",
   "version": "3.8.5"
  }
 },
 "nbformat": 4,
 "nbformat_minor": 4
}
