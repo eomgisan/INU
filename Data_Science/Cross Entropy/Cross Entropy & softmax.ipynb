{
 "cells": [
  {
   "cell_type": "code",
   "execution_count": 1,
   "id": "1052dccc",
   "metadata": {},
   "outputs": [],
   "source": [
    "import torch\n",
    "import torch.nn as nn\n",
    "import torch.nn.functional as F\n",
    "import torch.optim as optim"
   ]
  },
  {
   "cell_type": "code",
   "execution_count": 2,
   "id": "4037eaea",
   "metadata": {},
   "outputs": [
    {
     "data": {
      "text/plain": [
       "<torch._C.Generator at 0x24191763fb0>"
      ]
     },
     "execution_count": 2,
     "metadata": {},
     "output_type": "execute_result"
    }
   ],
   "source": [
    "torch.manual_seed(0)"
   ]
  },
  {
   "cell_type": "code",
   "execution_count": 3,
   "id": "ca64757a",
   "metadata": {},
   "outputs": [],
   "source": [
    "z = torch.FloatTensor([1,2,3])"
   ]
  },
  {
   "cell_type": "code",
   "execution_count": 4,
   "id": "4518d875",
   "metadata": {},
   "outputs": [
    {
     "data": {
      "text/plain": [
       "tensor([1., 2., 3.])"
      ]
     },
     "execution_count": 4,
     "metadata": {},
     "output_type": "execute_result"
    }
   ],
   "source": [
    "z"
   ]
  },
  {
   "cell_type": "code",
   "execution_count": 5,
   "id": "bd5d92c5",
   "metadata": {},
   "outputs": [],
   "source": [
    "hypothesis = F.softmax(z,dim=0)"
   ]
  },
  {
   "cell_type": "markdown",
   "id": "4f63087c",
   "metadata": {},
   "source": [
    "여기서 dim 은 방향을 의미\n",
    "\n",
    "0일 경우에는 아래쪽으로 확률 변수 합하면 1\n",
    "\n",
    "1일 경우에는 오른쪽으로 확률 변수 합하면 1\n",
    "\n",
    "즉 차원으로 생각하면 됨  1차원 텐서이므로 dim 0\n",
    "\n",
    "2차원 텐서 입력받으면 dim을 1로 주면서 2차원 텐서의 요소중 1차원별로 확률변수 합하면 1"
   ]
  },
  {
   "cell_type": "code",
   "execution_count": 6,
   "id": "f0f0a4b0",
   "metadata": {},
   "outputs": [
    {
     "data": {
      "text/plain": [
       "tensor([0.0900, 0.2447, 0.6652])"
      ]
     },
     "execution_count": 6,
     "metadata": {},
     "output_type": "execute_result"
    }
   ],
   "source": [
    "hypothesis"
   ]
  },
  {
   "cell_type": "code",
   "execution_count": 7,
   "id": "2de181f0",
   "metadata": {},
   "outputs": [],
   "source": [
    "from numpy import exp"
   ]
  },
  {
   "cell_type": "code",
   "execution_count": 8,
   "id": "54ab02b7",
   "metadata": {},
   "outputs": [
    {
     "data": {
      "text/plain": [
       "0.09003057317038046"
      ]
     },
     "execution_count": 8,
     "metadata": {},
     "output_type": "execute_result"
    }
   ],
   "source": [
    "exp(1)/(exp(1)+exp(2)+exp(3))"
   ]
  },
  {
   "cell_type": "code",
   "execution_count": 9,
   "id": "7ac1886e",
   "metadata": {},
   "outputs": [
    {
     "data": {
      "text/plain": [
       "0.24472847105479767"
      ]
     },
     "execution_count": 9,
     "metadata": {},
     "output_type": "execute_result"
    }
   ],
   "source": [
    "exp(2)/(exp(1)+exp(2)+exp(3))"
   ]
  },
  {
   "cell_type": "code",
   "execution_count": 10,
   "id": "5266f263",
   "metadata": {},
   "outputs": [
    {
     "data": {
      "text/plain": [
       "0.6652409557748219"
      ]
     },
     "execution_count": 10,
     "metadata": {},
     "output_type": "execute_result"
    }
   ],
   "source": [
    "exp(3)/(exp(1)+exp(2)+exp(3))"
   ]
  },
  {
   "cell_type": "code",
   "execution_count": 11,
   "id": "8b2d5fbb",
   "metadata": {},
   "outputs": [],
   "source": [
    "z = torch.rand(3,5, requires_grad = True)"
   ]
  },
  {
   "cell_type": "code",
   "execution_count": 12,
   "id": "d2e10f45",
   "metadata": {},
   "outputs": [],
   "source": [
    "hypothesis = F.softmax(z, dim= 1)"
   ]
  },
  {
   "cell_type": "code",
   "execution_count": 13,
   "id": "e35ddb17",
   "metadata": {},
   "outputs": [
    {
     "data": {
      "text/plain": [
       "tensor([[0.2222, 0.2917, 0.1478, 0.1544, 0.1840],\n",
       "        [0.2000, 0.1732, 0.2600, 0.1673, 0.1996],\n",
       "        [0.2194, 0.2313, 0.1583, 0.1833, 0.2077]], grad_fn=<SoftmaxBackward0>)"
      ]
     },
     "execution_count": 13,
     "metadata": {},
     "output_type": "execute_result"
    }
   ],
   "source": [
    "hypothesis"
   ]
  },
  {
   "cell_type": "code",
   "execution_count": 14,
   "id": "eecec750",
   "metadata": {},
   "outputs": [
    {
     "data": {
      "text/plain": [
       "tensor([[0.4963, 0.7682, 0.0885, 0.1320, 0.3074],\n",
       "        [0.6341, 0.4901, 0.8964, 0.4556, 0.6323],\n",
       "        [0.3489, 0.4017, 0.0223, 0.1689, 0.2939]], requires_grad=True)"
      ]
     },
     "execution_count": 14,
     "metadata": {},
     "output_type": "execute_result"
    }
   ],
   "source": [
    "z"
   ]
  },
  {
   "cell_type": "code",
   "execution_count": 15,
   "id": "557731b7",
   "metadata": {},
   "outputs": [],
   "source": [
    "y = torch.randint(5,(3,)).long()"
   ]
  },
  {
   "cell_type": "markdown",
   "id": "1b3f9677",
   "metadata": {},
   "source": [
    "radnint(5,(3,) 은 0~4 까지의 숫자중 3개를 뽑으라는 의미"
   ]
  },
  {
   "cell_type": "code",
   "execution_count": 16,
   "id": "2e8f92eb",
   "metadata": {},
   "outputs": [
    {
     "data": {
      "text/plain": [
       "tensor([1, 1, 3])"
      ]
     },
     "execution_count": 16,
     "metadata": {},
     "output_type": "execute_result"
    }
   ],
   "source": [
    "y"
   ]
  },
  {
   "cell_type": "code",
   "execution_count": 17,
   "id": "2493e78e",
   "metadata": {},
   "outputs": [],
   "source": [
    "y_one_hot = torch.zeros_like(hypothesis)"
   ]
  },
  {
   "cell_type": "code",
   "execution_count": 18,
   "id": "c6d5efc1",
   "metadata": {},
   "outputs": [
    {
     "data": {
      "text/plain": [
       "tensor([[0., 0., 0., 0., 0.],\n",
       "        [0., 0., 0., 0., 0.],\n",
       "        [0., 0., 0., 0., 0.]])"
      ]
     },
     "execution_count": 18,
     "metadata": {},
     "output_type": "execute_result"
    }
   ],
   "source": [
    "y_one_hot"
   ]
  },
  {
   "cell_type": "code",
   "execution_count": 19,
   "id": "f6510761",
   "metadata": {},
   "outputs": [
    {
     "data": {
      "text/plain": [
       "tensor([[0., 1., 0., 0., 0.],\n",
       "        [0., 1., 0., 0., 0.],\n",
       "        [0., 0., 0., 1., 0.]])"
      ]
     },
     "execution_count": 19,
     "metadata": {},
     "output_type": "execute_result"
    }
   ],
   "source": [
    "y_one_hot.scatter_(1,y.unsqueeze(1),1)"
   ]
  },
  {
   "cell_type": "markdown",
   "id": "49e2c662",
   "metadata": {},
   "source": [
    "scatter_ 설명\n",
    "\n",
    "첫번쨰 변수 = \n",
    "\n",
    "두번쨰 변수 = 위치\n",
    "\n",
    "세번째 변수 = 어떤 것을 넣을것인지"
   ]
  },
  {
   "cell_type": "code",
   "execution_count": 20,
   "id": "fb4e9ec7",
   "metadata": {},
   "outputs": [],
   "source": [
    "cost = (y_one_hot * -torch.log(hypothesis))"
   ]
  },
  {
   "cell_type": "markdown",
   "id": "307cc5ae",
   "metadata": {},
   "source": [
    "크로스 엔트로피를 one hot 코드와 같이 사용하면 1되어있는 부분만 가져다 쓰기 때문에 위와 같은 식이 나옴\n",
    "\n",
    "뒤에 곱해져있는것이 logQ(x) 라 생각하면 됨"
   ]
  },
  {
   "cell_type": "code",
   "execution_count": 21,
   "id": "00744eca",
   "metadata": {},
   "outputs": [
    {
     "data": {
      "text/plain": [
       "tensor([[0.0000, 1.2322, 0.0000, 0.0000, 0.0000],\n",
       "        [0.0000, 1.7536, 0.0000, 0.0000, 0.0000],\n",
       "        [0.0000, 0.0000, 0.0000, 1.6968, 0.0000]], grad_fn=<MulBackward0>)"
      ]
     },
     "execution_count": 21,
     "metadata": {},
     "output_type": "execute_result"
    }
   ],
   "source": [
    "cost"
   ]
  },
  {
   "cell_type": "code",
   "execution_count": 22,
   "id": "f9c68b19",
   "metadata": {},
   "outputs": [],
   "source": [
    "cost = (y_one_hot * -torch.log(hypothesis)).sum(dim=1).mean()"
   ]
  },
  {
   "cell_type": "code",
   "execution_count": 23,
   "id": "7d8b9694",
   "metadata": {},
   "outputs": [
    {
     "data": {
      "text/plain": [
       "tensor(1.5608, grad_fn=<MeanBackward0>)"
      ]
     },
     "execution_count": 23,
     "metadata": {},
     "output_type": "execute_result"
    }
   ],
   "source": [
    "cost"
   ]
  },
  {
   "cell_type": "code",
   "execution_count": 24,
   "id": "ac98d985",
   "metadata": {},
   "outputs": [
    {
     "data": {
      "text/plain": [
       "tensor([[-1.5041, -1.2322, -1.9119, -1.8684, -1.6930],\n",
       "        [-1.6096, -1.7536, -1.3472, -1.7880, -1.6113],\n",
       "        [-1.5167, -1.4639, -1.8433, -1.6968, -1.5717]], grad_fn=<LogBackward0>)"
      ]
     },
     "execution_count": 24,
     "metadata": {},
     "output_type": "execute_result"
    }
   ],
   "source": [
    "torch.log(F.softmax(z,dim=1))"
   ]
  },
  {
   "cell_type": "code",
   "execution_count": 25,
   "id": "1d49356d",
   "metadata": {},
   "outputs": [
    {
     "data": {
      "text/plain": [
       "tensor([[-1.5041, -1.2322, -1.9119, -1.8684, -1.6930],\n",
       "        [-1.6096, -1.7536, -1.3472, -1.7880, -1.6113],\n",
       "        [-1.5167, -1.4639, -1.8433, -1.6968, -1.5717]],\n",
       "       grad_fn=<LogSoftmaxBackward0>)"
      ]
     },
     "execution_count": 25,
     "metadata": {},
     "output_type": "execute_result"
    }
   ],
   "source": [
    "F.log_softmax(z,dim=1)"
   ]
  },
  {
   "cell_type": "code",
   "execution_count": 26,
   "id": "9499b251",
   "metadata": {},
   "outputs": [
    {
     "data": {
      "text/plain": [
       "tensor(1.5608, grad_fn=<MeanBackward0>)"
      ]
     },
     "execution_count": 26,
     "metadata": {},
     "output_type": "execute_result"
    }
   ],
   "source": [
    "(y_one_hot * -torch.log(F.softmax(z,dim=1))).sum(dim=1).mean()"
   ]
  },
  {
   "cell_type": "code",
   "execution_count": 27,
   "id": "1adb059a",
   "metadata": {},
   "outputs": [
    {
     "data": {
      "text/plain": [
       "tensor(1.5608, grad_fn=<NllLossBackward0>)"
      ]
     },
     "execution_count": 27,
     "metadata": {},
     "output_type": "execute_result"
    }
   ],
   "source": [
    "F.nll_loss(F.log_softmax(z,dim=1),y)"
   ]
  },
  {
   "cell_type": "markdown",
   "id": "fddb05ff",
   "metadata": {},
   "source": [
    "negative log likehood 손실 = nll"
   ]
  },
  {
   "cell_type": "code",
   "execution_count": 28,
   "id": "bc4012c4",
   "metadata": {},
   "outputs": [
    {
     "data": {
      "text/plain": [
       "tensor(1.5608, grad_fn=<NllLossBackward0>)"
      ]
     },
     "execution_count": 28,
     "metadata": {},
     "output_type": "execute_result"
    }
   ],
   "source": [
    "F.cross_entropy(z,y)"
   ]
  },
  {
   "cell_type": "code",
   "execution_count": null,
   "id": "e0ad8f64",
   "metadata": {},
   "outputs": [],
   "source": []
  }
 ],
 "metadata": {
  "kernelspec": {
   "display_name": "Python 3",
   "language": "python",
   "name": "python3"
  },
  "language_info": {
   "codemirror_mode": {
    "name": "ipython",
    "version": 3
   },
   "file_extension": ".py",
   "mimetype": "text/x-python",
   "name": "python",
   "nbconvert_exporter": "python",
   "pygments_lexer": "ipython3",
   "version": "3.8.8"
  }
 },
 "nbformat": 4,
 "nbformat_minor": 5
}
